{
 "cells": [
  {
   "cell_type": "code",
   "execution_count": 1,
   "metadata": {
    "colab": {},
    "colab_type": "code",
    "id": "tOG84vhD_Fgr"
   },
   "outputs": [],
   "source": [
    "#import the neccesary libraries\n",
    "import tensorflow as tf\n",
    "from tensorflow.keras.preprocessing.image import ImageDataGenerator\n",
    "import pandas as pd\n",
    "import numpy as np\n",
    "import matplotlib.pyplot as plt\n",
    "import random\n",
    "from PIL import Image\n",
    "import numpy as np\n",
    "import skimage\n",
    "import skimage.transform\n",
    "import os\n",
    "import re\n",
    "import tensorflow.keras.backend as K\n",
    "from skimage.metrics import structural_similarity as ssim\n",
    "import math\n",
    "from tensorflow.keras.applications.vgg16 import VGG16\n",
    "os.environ[\"CUDA_VISIBLE_DEVICES\"]=\"0\""
   ]
  },
  {
   "cell_type": "code",
   "execution_count": 2,
   "metadata": {},
   "outputs": [
    {
     "name": "stdout",
     "output_type": "stream",
     "text": [
      "0\n",
      "1000\n",
      "2000\n",
      "3000\n",
      "4000\n",
      "5000\n",
      "6000\n",
      "7000\n",
      "8000\n",
      "9000\n",
      "10000\n",
      "11000\n",
      "12000\n",
      "13000\n",
      "14000\n",
      "15000\n",
      "16000\n",
      "17000\n",
      "18000\n",
      "19000\n",
      "20000\n",
      "21000\n",
      "22000\n",
      "23000\n",
      "24000\n",
      "25000\n",
      "Done\n",
      "0\n",
      "1000\n",
      "2000\n",
      "3000\n",
      "4000\n",
      "5000\n",
      "6000\n",
      "7000\n",
      "8000\n",
      "Done\n"
     ]
    }
   ],
   "source": [
    "import skimage.transform\n",
    "\n",
    "def CreateSet(input_list,N_patches,patchsize):\n",
    "    \"\"\"\n",
    "    Creates an array that can be used as input and output for the model\n",
    "    parameters: input_list, a list with indices of the images that are used\n",
    "                N_patches, the amount of image patches the model creates per image\n",
    "                patchszize, the width and height of the square image patch\n",
    "    \n",
    "    \"\"\"\n",
    "    X = np.zeros((len(input_list)*N_patches, patchsize, patchsize, 2), dtype=np.float32)\n",
    "    y = np.zeros((len(input_list)*N_patches, patchsize, patchsize, 1), dtype=np.float32)\n",
    "    for j in range(N_patches):\n",
    "        for n,i in enumerate(input_list):\n",
    "            #random pixel location\n",
    "            ii = j*len(input_list)+n\n",
    "            xloc = random.randint(0,400-patchsize)\n",
    "            yloc = random.randint(0,800-patchsize)\n",
    "            #input \n",
    "            img_input1 = Image.open('bandLimited_model1/input_%03d.png' % (i+1))\n",
    "            in_img_input1 = tf.keras.preprocessing.image.img_to_array(img_input1)\n",
    "            in_img_input1 = in_img_input1[yloc:yloc+patchsize,xloc:xloc+patchsize]\n",
    "            in_img_input1 = skimage.transform.resize(in_img_input1 , (patchsize , patchsize , 1) , mode = 'constant' , preserve_range = True)\n",
    "            img_input2 = Image.open('bandLimited_model2/input_%03d.png' % (i+1))\n",
    "            in_img_input2 = tf.keras.preprocessing.image.img_to_array(img_input2)\n",
    "            in_img_input2 = in_img_input2[yloc:yloc+patchsize,xloc:xloc+patchsize]\n",
    "            in_img_input2 = skimage.transform.resize(in_img_input2 , (patchsize , patchsize , 1) , mode = 'constant' , preserve_range = True)\n",
    "            X1 = in_img_input1 / 255.0\n",
    "            X2 = in_img_input2 / 255.0\n",
    "            X[ii] = np.concatenate((X1,X2),axis=-1)\n",
    "            #output\n",
    "            img_output = Image.open('groundTruth/target_%03d.png' % (i+1))\n",
    "            in_img_output = tf.keras.preprocessing.image.img_to_array(img_output)\n",
    "            in_img_output = in_img_output[yloc:yloc+patchsize,xloc:xloc+patchsize]\n",
    "            in_img_output = skimage.transform.resize(in_img_output , (patchsize , patchsize , 1) , mode = 'constant' , preserve_range = True)\n",
    "            y[ii] = in_img_output / 255.0\n",
    "            if ii % 1000 == 0:\n",
    "                print(ii)\n",
    "    print('Done')\n",
    "    return X,y\n",
    "#amount of patches per image\n",
    "N_patches = 64\n",
    "#width and height of the patches\n",
    "patchsize = 128\n",
    "#Train set is image 1 till 401\n",
    "X_train,y_train = CreateSet(range(401),N_patches,patchsize)\n",
    "#validation set is image 401 till 535\n",
    "X_valid,y_valid = CreateSet(range(401,535),N_patches,patchsize)"
   ]
  },
  {
   "cell_type": "code",
   "execution_count": 3,
   "metadata": {},
   "outputs": [],
   "source": [
    "#Create the arrays for the Test set which are the image 601 till 669\n",
    "test_set_indices = range(535,669)\n",
    "\n",
    "Test_set_X = np.zeros((len(test_set_indices), 801, 401, 1), dtype=np.float32)\n",
    "Test_set_y = np.zeros((len(test_set_indices), 801, 401, 1), dtype=np.float32)\n",
    "for i,n in enumerate(test_set_indices):\n",
    "    img = Image.open('bandLimited/input_%03d.png' % (n+1))\n",
    "    in_img_input = tf.keras.preprocessing.image.img_to_array(img)\n",
    "    in_img_input = skimage.transform.resize(in_img_input , (801 , 401 , 1) , mode = 'constant' , preserve_range = True)\n",
    "    Test_set_X[i] =in_img_input / 255.0\n",
    "\n",
    "    img = Image.open('groundTruth/target_%03d.png' % (n+1))\n",
    "    in_img_output = tf.keras.preprocessing.image.img_to_array(img)\n",
    "    in_img_output = skimage.transform.resize(in_img_output , (801 , 401 , 1) , mode = 'constant' , preserve_range = True)\n",
    "    Test_set_y[i] =in_img_output / 255.0"
   ]
  },
  {
   "cell_type": "code",
   "execution_count": 2,
   "metadata": {
    "colab": {},
    "colab_type": "code",
    "id": "Xt_4VuyFAzRI"
   },
   "outputs": [],
   "source": [
    "def Conv2D_Block(input_tensor , n_filters):\n",
    "    \"\"\"\n",
    "    A function that defines a block of two conv2D layers\n",
    "    Parameter: input_tensor: the model/input tensor to which these layers are added\n",
    "    returns: x: the model with the two conv2D layer\n",
    "    \"\"\"\n",
    "    x = tf.keras.layers.Conv2D(filters = n_filters , kernel_size = (3 , 3) , kernel_initializer = 'he_normal' , padding = 'same')(input_tensor)\n",
    "    x = tf.keras.layers.BatchNormalization()(x)\n",
    "    x = tf.keras.layers.Activation('relu')(x)\n",
    "\n",
    "    x = tf.keras.layers.Conv2D(filters = n_filters , kernel_size = (3 , 3) , kernel_initializer = 'he_normal' , padding = 'same')(x)\n",
    "    x = tf.keras.layers.BatchNormalization()(x)\n",
    "    x = tf.keras.layers.Activation('relu')(x)\n",
    "\n",
    "    return x\n",
    "\n",
    "def U_Net(img_tensor , n_filters = 16):\n",
    "    \"\"\"\n",
    "    Creates the U_net model\n",
    "    returns: u_net, the u_net model\n",
    "    \"\"\"\n",
    "    #512X512\n",
    "    conv1 = Conv2D_Block(img_tensor , n_filters * 1)\n",
    "    pool1 = tf.keras.layers.MaxPooling2D((2 , 2))(conv1)\n",
    "    pool1 = tf.keras.layers.Dropout(0.05)(pool1)\n",
    "    #256x256\n",
    "    conv2 = Conv2D_Block(pool1 , n_filters * 2)\n",
    "    pool2 = tf.keras.layers.MaxPooling2D((2 , 2))(conv2)\n",
    "    pool2 = tf.keras.layers.Dropout(0.05)(pool2)\n",
    "    #128x128\n",
    "    conv3 = Conv2D_Block(pool2 , n_filters * 4)\n",
    "    pool3 = tf.keras.layers.MaxPooling2D((2 , 2))(conv3)\n",
    "    pool3 = tf.keras.layers.Dropout(0.05)(pool3)\n",
    "    #64x64\n",
    "    conv4 = Conv2D_Block(pool3 , n_filters * 8)\n",
    "    pool4 = tf.keras.layers.MaxPooling2D((2 , 2))(conv4)\n",
    "    pool4 = tf.keras.layers.Dropout(0.05)(pool4)\n",
    "    #32x32\n",
    "    conv5 = Conv2D_Block(pool4 , n_filters * 16)\n",
    "    #32x32\n",
    "    pool6 = tf.keras.layers.Conv2DTranspose(n_filters * 8 , (3 , 3) , (2, 2) , padding = 'same')(conv5)\n",
    "    pool6 = tf.keras.layers.concatenate([pool6 , conv4])\n",
    "    pool6 = tf.keras.layers.Dropout(0.05)(pool6)\n",
    "    conv6 = Conv2D_Block(pool6 , n_filters * 8)\n",
    "    #64x64\n",
    "    pool7 = tf.keras.layers.Conv2DTranspose(n_filters * 4 , (3 , 3) , (2 , 2) , padding = 'same')(conv6)\n",
    "    pool7 = tf.keras.layers.concatenate([pool7 , conv3])\n",
    "    pool7 = tf.keras.layers.Dropout(0.05)(pool7)\n",
    "    conv7 = Conv2D_Block(pool7 , n_filters * 4)\n",
    "    #128x128\n",
    "    pool8 = tf.keras.layers.Conv2DTranspose(n_filters * 2 , (3 , 3) , (2 , 2) , padding = 'same')(conv7)\n",
    "    pool8 = tf.keras.layers.concatenate([pool8 , conv2])\n",
    "    pool8 = tf.keras.layers.Dropout(0.05)(pool8)\n",
    "    conv8 = Conv2D_Block(pool8 , n_filters * 2)\n",
    "    #256x256\n",
    "    pool9 = tf.keras.layers.Conv2DTranspose(n_filters * 1 , (3 , 3) , (2 , 2) , padding = 'same')(conv8)\n",
    "    pool9 = tf.keras.layers.concatenate([pool9 , conv1])\n",
    "    pool9 = tf.keras.layers.Dropout(0.05)(pool9)\n",
    "    conv9 = Conv2D_Block(pool9 , n_filters * 1)\n",
    "    #512x512\n",
    "    #use relu for the activation\n",
    "    output = tf.keras.layers.Conv2D(1 , (3 , 3), padding = 'same')(conv9)\n",
    "\n",
    "    u_net = tf.keras.Model(inputs = [img_tensor] , outputs = [output])\n",
    "\n",
    "    return u_net"
   ]
  },
  {
   "cell_type": "code",
   "execution_count": 4,
   "metadata": {
    "colab": {
     "base_uri": "https://localhost:8080/",
     "height": 138
    },
    "colab_type": "code",
    "id": "P6bKNYDv8PxF",
    "outputId": "53c556e0-1b76-409a-c4aa-ba58c472930e"
   },
   "outputs": [],
   "source": [
    "#define and compile the model\n",
    "img_tensor = tf.keras.layers.Input((None , None , 2) , name = 'img')\n",
    "model = U_Net(img_tensor,16)"
   ]
  },
  {
   "cell_type": "code",
   "execution_count": 5,
   "metadata": {},
   "outputs": [],
   "source": [
    "\n",
    "model.compile(optimizer = tf.keras.optimizers.Adam(lr=1e-4),\n",
    "            loss=tf.keras.losses.meansquarederror(),\n",
    "            metrics=[tf.keras.metrics.RootMeanSquaredError()])"
   ]
  },
  {
   "cell_type": "code",
   "execution_count": 8,
   "metadata": {
    "colab": {
     "base_uri": "https://localhost:8080/",
     "height": 2772
    },
    "colab_type": "code",
    "id": "ewoQSgb9-Owo",
    "outputId": "e7d76ce5-ee4d-42a5-9437-9be4dc6ccb98"
   },
   "outputs": [],
   "source": [
    "model.summary()"
   ]
  },
  {
   "cell_type": "code",
   "execution_count": 6,
   "metadata": {
    "colab": {},
    "colab_type": "code",
    "id": "Hx0xnc4kANzc"
   },
   "outputs": [],
   "source": [
    "model_path = 'model_unetDoubleInput_Ultrasound_data.h5'\n",
    "callbacks = [\n",
    "    tf.keras.callbacks.EarlyStopping(patience=5, verbose=1),\n",
    "    tf.keras.callbacks.ReduceLROnPlateau(factor=0.1, patience=5, min_lr=0.0001, verbose=1),\n",
    "    tf.keras.callbacks.ModelCheckpoint(model_path, verbose=1, save_best_only=True, save_weights_only=True)\n",
    "]"
   ]
  },
  {
   "cell_type": "code",
   "execution_count": 10,
   "metadata": {
    "colab": {
     "base_uri": "https://localhost:8080/",
     "height": 1616
    },
    "colab_type": "code",
    "id": "jiBmsTy_Anok",
    "outputId": "d350828c-a393-41ad-89f8-38123f726333",
    "scrolled": false
   },
   "outputs": [
    {
     "name": "stdout",
     "output_type": "stream",
     "text": [
      "Epoch 1/100\n",
      "1602/1604 [============================>.] - ETA: 0s - loss: 0.0304 - root_mean_squared_error: 0.1743\n",
      "Epoch 00001: val_loss improved from inf to 0.01025, saving model to model_unetDoubleInput_Ultrasound_data.h5\n",
      "1604/1604 [==============================] - 47s 29ms/step - loss: 0.0304 - root_mean_squared_error: 0.1743 - val_loss: 0.0103 - val_root_mean_squared_error: 0.1013 - lr: 1.0000e-04\n",
      "Epoch 2/100\n",
      "1603/1604 [============================>.] - ETA: 0s - loss: 0.0118 - root_mean_squared_error: 0.1085\n",
      "Epoch 00002: val_loss improved from 0.01025 to 0.00978, saving model to model_unetDoubleInput_Ultrasound_data.h5\n",
      "1604/1604 [==============================] - 47s 29ms/step - loss: 0.0118 - root_mean_squared_error: 0.1085 - val_loss: 0.0098 - val_root_mean_squared_error: 0.0989 - lr: 1.0000e-04\n",
      "Epoch 3/100\n",
      "1602/1604 [============================>.] - ETA: 0s - loss: 0.0106 - root_mean_squared_error: 0.1028- ETA: 1s - loss: 0.0106 - root_mean_sq\n",
      "Epoch 00003: val_loss did not improve from 0.00978\n",
      "1604/1604 [==============================] - 46s 29ms/step - loss: 0.0106 - root_mean_squared_error: 0.1027 - val_loss: 0.0119 - val_root_mean_squared_error: 0.1093 - lr: 1.0000e-04\n",
      "Epoch 4/100\n",
      "1604/1604 [==============================] - ETA: 0s - loss: 0.0099 - root_mean_squared_error: 0.0996\n",
      "Epoch 00004: val_loss did not improve from 0.00978\n",
      "1604/1604 [==============================] - 47s 29ms/step - loss: 0.0099 - root_mean_squared_error: 0.0996 - val_loss: 0.0137 - val_root_mean_squared_error: 0.1171 - lr: 1.0000e-04\n",
      "Epoch 5/100\n",
      "1604/1604 [==============================] - ETA: 0s - loss: 0.0096 - root_mean_squared_error: 0.0978\n",
      "Epoch 00005: val_loss improved from 0.00978 to 0.00890, saving model to model_unetDoubleInput_Ultrasound_data.h5\n",
      "1604/1604 [==============================] - 47s 29ms/step - loss: 0.0096 - root_mean_squared_error: 0.0978 - val_loss: 0.0089 - val_root_mean_squared_error: 0.0943 - lr: 1.0000e-04\n",
      "Epoch 6/100\n",
      "1604/1604 [==============================] - ETA: 0s - loss: 0.0093 - root_mean_squared_error: 0.0966\n",
      "Epoch 00006: val_loss improved from 0.00890 to 0.00883, saving model to model_unetDoubleInput_Ultrasound_data.h5\n",
      "1604/1604 [==============================] - 46s 29ms/step - loss: 0.0093 - root_mean_squared_error: 0.0966 - val_loss: 0.0088 - val_root_mean_squared_error: 0.0940 - lr: 1.0000e-04\n",
      "Epoch 7/100\n",
      "1602/1604 [============================>.] - ETA: 0s - loss: 0.0092 - root_mean_squared_error: 0.0957\n",
      "Epoch 00007: val_loss did not improve from 0.00883\n",
      "1604/1604 [==============================] - 47s 29ms/step - loss: 0.0092 - root_mean_squared_error: 0.0957 - val_loss: 0.0089 - val_root_mean_squared_error: 0.0943 - lr: 1.0000e-04\n",
      "Epoch 8/100\n",
      "1604/1604 [==============================] - ETA: 0s - loss: 0.0090 - root_mean_squared_error: 0.0950\n",
      "Epoch 00008: val_loss improved from 0.00883 to 0.00878, saving model to model_unetDoubleInput_Ultrasound_data.h5\n",
      "1604/1604 [==============================] - 47s 29ms/step - loss: 0.0090 - root_mean_squared_error: 0.0950 - val_loss: 0.0088 - val_root_mean_squared_error: 0.0937 - lr: 1.0000e-04\n",
      "Epoch 9/100\n",
      "1603/1604 [============================>.] - ETA: 0s - loss: 0.0089 - root_mean_squared_error: 0.0945\n",
      "Epoch 00009: val_loss improved from 0.00878 to 0.00876, saving model to model_unetDoubleInput_Ultrasound_data.h5\n",
      "1604/1604 [==============================] - 46s 29ms/step - loss: 0.0089 - root_mean_squared_error: 0.0945 - val_loss: 0.0088 - val_root_mean_squared_error: 0.0936 - lr: 1.0000e-04\n",
      "Epoch 10/100\n",
      "1603/1604 [============================>.] - ETA: 0s - loss: 0.0088 - root_mean_squared_error: 0.0940\n",
      "Epoch 00010: val_loss improved from 0.00876 to 0.00876, saving model to model_unetDoubleInput_Ultrasound_data.h5\n",
      "1604/1604 [==============================] - 46s 29ms/step - loss: 0.0088 - root_mean_squared_error: 0.0940 - val_loss: 0.0088 - val_root_mean_squared_error: 0.0936 - lr: 1.0000e-04\n",
      "Epoch 11/100\n",
      "1603/1604 [============================>.] - ETA: 0s - loss: 0.0088 - root_mean_squared_error: 0.0936\n",
      "Epoch 00011: val_loss improved from 0.00876 to 0.00874, saving model to model_unetDoubleInput_Ultrasound_data.h5\n",
      "1604/1604 [==============================] - 46s 29ms/step - loss: 0.0088 - root_mean_squared_error: 0.0936 - val_loss: 0.0087 - val_root_mean_squared_error: 0.0935 - lr: 1.0000e-04\n",
      "Epoch 12/100\n",
      "1604/1604 [==============================] - ETA: 0s - loss: 0.0087 - root_mean_squared_error: 0.0933\n",
      "Epoch 00012: val_loss did not improve from 0.00874\n",
      "1604/1604 [==============================] - 46s 29ms/step - loss: 0.0087 - root_mean_squared_error: 0.0933 - val_loss: 0.0088 - val_root_mean_squared_error: 0.0939 - lr: 1.0000e-04\n",
      "Epoch 13/100\n",
      "1603/1604 [============================>.] - ETA: 0s - loss: 0.0086 - root_mean_squared_error: 0.0929\n",
      "Epoch 00013: val_loss did not improve from 0.00874\n",
      "1604/1604 [==============================] - 46s 29ms/step - loss: 0.0086 - root_mean_squared_error: 0.0929 - val_loss: 0.0088 - val_root_mean_squared_error: 0.0936 - lr: 1.0000e-04\n",
      "Epoch 14/100\n",
      "1604/1604 [==============================] - ETA: 0s - loss: 0.0086 - root_mean_squared_error: 0.0930\n",
      "Epoch 00014: val_loss improved from 0.00874 to 0.00873, saving model to model_unetDoubleInput_Ultrasound_data.h5\n",
      "1604/1604 [==============================] - 46s 29ms/step - loss: 0.0086 - root_mean_squared_error: 0.0930 - val_loss: 0.0087 - val_root_mean_squared_error: 0.0934 - lr: 1.0000e-04\n",
      "Epoch 15/100\n",
      "1604/1604 [==============================] - ETA: 0s - loss: 0.0085 - root_mean_squared_error: 0.0923\n",
      "Epoch 00015: val_loss improved from 0.00873 to 0.00873, saving model to model_unetDoubleInput_Ultrasound_data.h5\n",
      "1604/1604 [==============================] - 46s 29ms/step - loss: 0.0085 - root_mean_squared_error: 0.0923 - val_loss: 0.0087 - val_root_mean_squared_error: 0.0934 - lr: 1.0000e-04\n",
      "Epoch 16/100\n",
      "1603/1604 [============================>.] - ETA: 0s - loss: 0.0085 - root_mean_squared_error: 0.0922\n",
      "Epoch 00016: val_loss did not improve from 0.00873\n",
      "1604/1604 [==============================] - 47s 29ms/step - loss: 0.0085 - root_mean_squared_error: 0.0922 - val_loss: 0.0087 - val_root_mean_squared_error: 0.0935 - lr: 1.0000e-04\n",
      "Epoch 17/100\n",
      "1603/1604 [============================>.] - ETA: 0s - loss: 0.0085 - root_mean_squared_error: 0.0920\n",
      "Epoch 00017: val_loss did not improve from 0.00873\n",
      "1604/1604 [==============================] - 46s 29ms/step - loss: 0.0085 - root_mean_squared_error: 0.0920 - val_loss: 0.0087 - val_root_mean_squared_error: 0.0935 - lr: 1.0000e-04\n",
      "Epoch 18/100\n",
      "1603/1604 [============================>.] - ETA: 0s - loss: 0.0084 - root_mean_squared_error: 0.0919\n",
      "Epoch 00018: val_loss improved from 0.00873 to 0.00872, saving model to model_unetDoubleInput_Ultrasound_data.h5\n",
      "1604/1604 [==============================] - 46s 29ms/step - loss: 0.0084 - root_mean_squared_error: 0.0919 - val_loss: 0.0087 - val_root_mean_squared_error: 0.0934 - lr: 1.0000e-04\n",
      "Epoch 19/100\n",
      "1604/1604 [==============================] - ETA: 0s - loss: 0.0084 - root_mean_squared_error: 0.0916\n",
      "Epoch 00019: val_loss did not improve from 0.00872\n",
      "1604/1604 [==============================] - 46s 29ms/step - loss: 0.0084 - root_mean_squared_error: 0.0916 - val_loss: 0.0087 - val_root_mean_squared_error: 0.0934 - lr: 1.0000e-04\n",
      "Epoch 20/100\n",
      "1603/1604 [============================>.] - ETA: 0s - loss: 0.0084 - root_mean_squared_error: 0.0915\n",
      "Epoch 00020: val_loss improved from 0.00872 to 0.00872, saving model to model_unetDoubleInput_Ultrasound_data.h5\n",
      "1604/1604 [==============================] - 46s 28ms/step - loss: 0.0084 - root_mean_squared_error: 0.0915 - val_loss: 0.0087 - val_root_mean_squared_error: 0.0934 - lr: 1.0000e-04\n",
      "Epoch 21/100\n",
      "1602/1604 [============================>.] - ETA: 0s - loss: 0.0083 - root_mean_squared_error: 0.0913\n",
      "Epoch 00021: val_loss improved from 0.00872 to 0.00871, saving model to model_unetDoubleInput_Ultrasound_data.h5\n",
      "1604/1604 [==============================] - 46s 29ms/step - loss: 0.0083 - root_mean_squared_error: 0.0914 - val_loss: 0.0087 - val_root_mean_squared_error: 0.0933 - lr: 1.0000e-04\n",
      "Epoch 22/100\n",
      "1604/1604 [==============================] - ETA: 0s - loss: 0.0083 - root_mean_squared_error: 0.0912\n",
      "Epoch 00022: val_loss did not improve from 0.00871\n",
      "1604/1604 [==============================] - 46s 29ms/step - loss: 0.0083 - root_mean_squared_error: 0.0912 - val_loss: 0.0087 - val_root_mean_squared_error: 0.0934 - lr: 1.0000e-04\n",
      "Epoch 23/100\n",
      "1603/1604 [============================>.] - ETA: 0s - loss: 0.0083 - root_mean_squared_error: 0.0911\n",
      "Epoch 00023: val_loss did not improve from 0.00871\n",
      "1604/1604 [==============================] - 46s 29ms/step - loss: 0.0083 - root_mean_squared_error: 0.0911 - val_loss: 0.0087 - val_root_mean_squared_error: 0.0933 - lr: 1.0000e-04\n",
      "Epoch 24/100\n",
      "1604/1604 [==============================] - ETA: 0s - loss: 0.0083 - root_mean_squared_error: 0.0910\n",
      "Epoch 00024: val_loss did not improve from 0.00871\n",
      "1604/1604 [==============================] - 46s 29ms/step - loss: 0.0083 - root_mean_squared_error: 0.0910 - val_loss: 0.0088 - val_root_mean_squared_error: 0.0938 - lr: 1.0000e-04\n",
      "Epoch 25/100\n",
      "1603/1604 [============================>.] - ETA: 0s - loss: 0.0083 - root_mean_squared_error: 0.0909\n",
      "Epoch 00025: val_loss did not improve from 0.00871\n",
      "1604/1604 [==============================] - 47s 29ms/step - loss: 0.0083 - root_mean_squared_error: 0.0909 - val_loss: 0.0087 - val_root_mean_squared_error: 0.0935 - lr: 1.0000e-04\n",
      "Epoch 26/100\n",
      "1604/1604 [==============================] - ETA: 0s - loss: 0.0083 - root_mean_squared_error: 0.0908\n",
      "Epoch 00026: val_loss did not improve from 0.00871\n",
      "1604/1604 [==============================] - 46s 29ms/step - loss: 0.0083 - root_mean_squared_error: 0.0908 - val_loss: 0.0087 - val_root_mean_squared_error: 0.0934 - lr: 1.0000e-04\n",
      "Epoch 00026: early stopping\n"
     ]
    }
   ],
   "source": [
    "#train the model\n",
    "results = model.fit(X_train,y_train, epochs=100, callbacks=callbacks,batch_size = 16,\n",
    "                    validation_data=(X_valid,y_valid),shuffle=False)"
   ]
  },
  {
   "cell_type": "code",
   "execution_count": 8,
   "metadata": {
    "colab": {},
    "colab_type": "code",
    "id": "uXgvQE67EC8G"
   },
   "outputs": [],
   "source": [
    "#load the model\n",
    "model.load_weights(model_path)"
   ]
  },
  {
   "cell_type": "code",
   "execution_count": 12,
   "metadata": {
    "scrolled": true
   },
   "outputs": [
    {
     "name": "stdout",
     "output_type": "stream",
     "text": [
      "dict_keys(['loss', 'root_mean_squared_error', 'val_loss', 'val_root_mean_squared_error', 'lr'])\n"
     ]
    },
    {
     "data": {
      "image/png": "[encoded data removed]",
      "text/plain": [
       "<Figure size 432x288 with 1 Axes>"
      ]
     },
     "metadata": {
      "needs_background": "light"
     },
     "output_type": "display_data"
    },
    {
     "data": {
      "image/png": "[encoded data removed]",
      "text/plain": [
       "<Figure size 432x288 with 1 Axes>"
      ]
     },
     "metadata": {
      "needs_background": "light"
     },
     "output_type": "display_data"
    },
    {
     "data": {
      "image/png": "[encoded data removed]",
      "text/plain": [
       "<Figure size 432x288 with 1 Axes>"
      ]
     },
     "metadata": {
      "needs_background": "light"
     },
     "output_type": "display_data"
    }
   ],
   "source": [
    "#visualise the accuracy and losses of the model\n",
    "# list all data in history\n",
    "print(results.history.keys())\n",
    "# summarize history for accuracy\n",
    "plt.plot(results.history['root_mean_squared_error'])\n",
    "plt.plot(results.history['val_root_mean_squared_error'])\n",
    "plt.title('model accuracy')\n",
    "plt.ylabel('root_mean_squared_error')\n",
    "plt.xlabel('epoch')\n",
    "plt.legend(['train', 'test'], loc='upper left')\n",
    "plt.show()\n",
    "# summarize history for loss\n",
    "plt.plot(results.history['loss'])\n",
    "plt.plot(results.history['val_loss'])\n",
    "plt.title('model loss')\n",
    "plt.ylabel('loss')\n",
    "plt.xlabel('epoch')\n",
    "plt.legend(['train', 'test'], loc='upper left')\n",
    "plt.show()\n",
    "plt.plot(results.history['lr'])\n",
    "plt.title('model learning rate')\n",
    "plt.ylabel('learning rate')\n",
    "plt.xlabel('epoch')\n",
    "plt.show()"
   ]
  },
  {
   "cell_type": "code",
   "execution_count": 14,
   "metadata": {},
   "outputs": [
    {
     "name": "stdout",
     "output_type": "stream",
     "text": [
      "WARNING:tensorflow:Model was constructed with shape (None, None, None, 2) for input Tensor(\"img:0\", shape=(None, None, None, 2), dtype=float32), but it was called on an input with incompatible shape (None, 800, 400, 1).\n"
     ]
    },
    {
     "ename": "ValueError",
     "evalue": "in user code:\n\n    /home/laslo-bep/anaconda3/lib/python3.8/site-packages/tensorflow/python/keras/engine/training.py:1147 predict_function  *\n        outputs = self.distribute_strategy.run(\n    /home/laslo-bep/anaconda3/lib/python3.8/site-packages/tensorflow/python/distribute/distribute_lib.py:951 run  **\n        return self._extended.call_for_each_replica(fn, args=args, kwargs=kwargs)\n    /home/laslo-bep/anaconda3/lib/python3.8/site-packages/tensorflow/python/distribute/distribute_lib.py:2290 call_for_each_replica\n        return self._call_for_each_replica(fn, args, kwargs)\n    /home/laslo-bep/anaconda3/lib/python3.8/site-packages/tensorflow/python/distribute/distribute_lib.py:2649 _call_for_each_replica\n        return fn(*args, **kwargs)\n    /home/laslo-bep/anaconda3/lib/python3.8/site-packages/tensorflow/python/keras/engine/training.py:1122 predict_step  **\n        return self(x, training=False)\n    /home/laslo-bep/anaconda3/lib/python3.8/site-packages/tensorflow/python/keras/engine/base_layer.py:927 __call__\n        outputs = call_fn(cast_inputs, *args, **kwargs)\n    /home/laslo-bep/anaconda3/lib/python3.8/site-packages/tensorflow/python/keras/engine/network.py:717 call\n        return self._run_internal_graph(\n    /home/laslo-bep/anaconda3/lib/python3.8/site-packages/tensorflow/python/keras/engine/network.py:888 _run_internal_graph\n        output_tensors = layer(computed_tensors, **kwargs)\n    /home/laslo-bep/anaconda3/lib/python3.8/site-packages/tensorflow/python/keras/engine/base_layer.py:885 __call__\n        input_spec.assert_input_compatibility(self.input_spec, inputs,\n    /home/laslo-bep/anaconda3/lib/python3.8/site-packages/tensorflow/python/keras/engine/input_spec.py:212 assert_input_compatibility\n        raise ValueError(\n\n    ValueError: Input 0 of layer conv2d is incompatible with the layer: expected axis -1 of input shape to have value 2 but received input with shape [None, 800, 400, 1]\n",
     "output_type": "error",
     "traceback": [
      "\u001b[0;31m---------------------------------------------------------------------------\u001b[0m",
      "\u001b[0;31mValueError\u001b[0m                                Traceback (most recent call last)",
      "\u001b[0;32m<ipython-input-14-72912bfb20a9>\u001b[0m in \u001b[0;36m<module>\u001b[0;34m\u001b[0m\n\u001b[1;32m      1\u001b[0m \u001b[0mn\u001b[0m \u001b[0;34m=\u001b[0m\u001b[0;36m5\u001b[0m\u001b[0;34m\u001b[0m\u001b[0;34m\u001b[0m\u001b[0m\n\u001b[0;32m----> 2\u001b[0;31m \u001b[0mprediction\u001b[0m \u001b[0;34m=\u001b[0m \u001b[0mmodel\u001b[0m\u001b[0;34m.\u001b[0m\u001b[0mpredict\u001b[0m\u001b[0;34m(\u001b[0m\u001b[0mnp\u001b[0m\u001b[0;34m.\u001b[0m\u001b[0mexpand_dims\u001b[0m\u001b[0;34m(\u001b[0m\u001b[0mTest_set_X\u001b[0m\u001b[0;34m[\u001b[0m\u001b[0mn\u001b[0m\u001b[0;34m,\u001b[0m\u001b[0;34m:\u001b[0m\u001b[0;36m800\u001b[0m\u001b[0;34m,\u001b[0m\u001b[0;34m:\u001b[0m\u001b[0;36m400\u001b[0m\u001b[0;34m]\u001b[0m\u001b[0;34m,\u001b[0m\u001b[0;36m0\u001b[0m\u001b[0;34m)\u001b[0m\u001b[0;34m)\u001b[0m\u001b[0;34m\u001b[0m\u001b[0;34m\u001b[0m\u001b[0m\n\u001b[0m\u001b[1;32m      3\u001b[0m \u001b[0;34m\u001b[0m\u001b[0m\n\u001b[1;32m      4\u001b[0m \u001b[0mprediction_image\u001b[0m \u001b[0;34m=\u001b[0m \u001b[0mprediction\u001b[0m\u001b[0;34m.\u001b[0m\u001b[0msqueeze\u001b[0m\u001b[0;34m(\u001b[0m\u001b[0;34m)\u001b[0m\u001b[0;34m\u001b[0m\u001b[0;34m\u001b[0m\u001b[0m\n\u001b[1;32m      5\u001b[0m \u001b[0;34m\u001b[0m\u001b[0m\n",
      "\u001b[0;32m~/anaconda3/lib/python3.8/site-packages/tensorflow/python/keras/engine/training.py\u001b[0m in \u001b[0;36m_method_wrapper\u001b[0;34m(self, *args, **kwargs)\u001b[0m\n\u001b[1;32m     86\u001b[0m       raise ValueError('{} is not supported in multi-worker mode.'.format(\n\u001b[1;32m     87\u001b[0m           method.__name__))\n\u001b[0;32m---> 88\u001b[0;31m     \u001b[0;32mreturn\u001b[0m \u001b[0mmethod\u001b[0m\u001b[0;34m(\u001b[0m\u001b[0mself\u001b[0m\u001b[0;34m,\u001b[0m \u001b[0;34m*\u001b[0m\u001b[0margs\u001b[0m\u001b[0;34m,\u001b[0m \u001b[0;34m**\u001b[0m\u001b[0mkwargs\u001b[0m\u001b[0;34m)\u001b[0m\u001b[0;34m\u001b[0m\u001b[0;34m\u001b[0m\u001b[0m\n\u001b[0m\u001b[1;32m     89\u001b[0m \u001b[0;34m\u001b[0m\u001b[0m\n\u001b[1;32m     90\u001b[0m   return tf_decorator.make_decorator(\n",
      "\u001b[0;32m~/anaconda3/lib/python3.8/site-packages/tensorflow/python/keras/engine/training.py\u001b[0m in \u001b[0;36mpredict\u001b[0;34m(self, x, batch_size, verbose, steps, callbacks, max_queue_size, workers, use_multiprocessing)\u001b[0m\n\u001b[1;32m   1266\u001b[0m           \u001b[0;32mfor\u001b[0m \u001b[0mstep\u001b[0m \u001b[0;32min\u001b[0m \u001b[0mdata_handler\u001b[0m\u001b[0;34m.\u001b[0m\u001b[0msteps\u001b[0m\u001b[0;34m(\u001b[0m\u001b[0;34m)\u001b[0m\u001b[0;34m:\u001b[0m\u001b[0;34m\u001b[0m\u001b[0;34m\u001b[0m\u001b[0m\n\u001b[1;32m   1267\u001b[0m             \u001b[0mcallbacks\u001b[0m\u001b[0;34m.\u001b[0m\u001b[0mon_predict_batch_begin\u001b[0m\u001b[0;34m(\u001b[0m\u001b[0mstep\u001b[0m\u001b[0;34m)\u001b[0m\u001b[0;34m\u001b[0m\u001b[0;34m\u001b[0m\u001b[0m\n\u001b[0;32m-> 1268\u001b[0;31m             \u001b[0mtmp_batch_outputs\u001b[0m \u001b[0;34m=\u001b[0m \u001b[0mpredict_function\u001b[0m\u001b[0;34m(\u001b[0m\u001b[0miterator\u001b[0m\u001b[0;34m)\u001b[0m\u001b[0;34m\u001b[0m\u001b[0;34m\u001b[0m\u001b[0m\n\u001b[0m\u001b[1;32m   1269\u001b[0m             \u001b[0;31m# Catch OutOfRangeError for Datasets of unknown size.\u001b[0m\u001b[0;34m\u001b[0m\u001b[0;34m\u001b[0m\u001b[0;34m\u001b[0m\u001b[0m\n\u001b[1;32m   1270\u001b[0m             \u001b[0;31m# This blocks until the batch has finished executing.\u001b[0m\u001b[0;34m\u001b[0m\u001b[0;34m\u001b[0m\u001b[0;34m\u001b[0m\u001b[0m\n",
      "\u001b[0;32m~/anaconda3/lib/python3.8/site-packages/tensorflow/python/eager/def_function.py\u001b[0m in \u001b[0;36m__call__\u001b[0;34m(self, *args, **kwds)\u001b[0m\n\u001b[1;32m    578\u001b[0m         \u001b[0mxla_context\u001b[0m\u001b[0;34m.\u001b[0m\u001b[0mExit\u001b[0m\u001b[0;34m(\u001b[0m\u001b[0;34m)\u001b[0m\u001b[0;34m\u001b[0m\u001b[0;34m\u001b[0m\u001b[0m\n\u001b[1;32m    579\u001b[0m     \u001b[0;32melse\u001b[0m\u001b[0;34m:\u001b[0m\u001b[0;34m\u001b[0m\u001b[0;34m\u001b[0m\u001b[0m\n\u001b[0;32m--> 580\u001b[0;31m       \u001b[0mresult\u001b[0m \u001b[0;34m=\u001b[0m \u001b[0mself\u001b[0m\u001b[0;34m.\u001b[0m\u001b[0m_call\u001b[0m\u001b[0;34m(\u001b[0m\u001b[0;34m*\u001b[0m\u001b[0margs\u001b[0m\u001b[0;34m,\u001b[0m \u001b[0;34m**\u001b[0m\u001b[0mkwds\u001b[0m\u001b[0;34m)\u001b[0m\u001b[0;34m\u001b[0m\u001b[0;34m\u001b[0m\u001b[0m\n\u001b[0m\u001b[1;32m    581\u001b[0m \u001b[0;34m\u001b[0m\u001b[0m\n\u001b[1;32m    582\u001b[0m     \u001b[0;32mif\u001b[0m \u001b[0mtracing_count\u001b[0m \u001b[0;34m==\u001b[0m \u001b[0mself\u001b[0m\u001b[0;34m.\u001b[0m\u001b[0m_get_tracing_count\u001b[0m\u001b[0;34m(\u001b[0m\u001b[0;34m)\u001b[0m\u001b[0;34m:\u001b[0m\u001b[0;34m\u001b[0m\u001b[0;34m\u001b[0m\u001b[0m\n",
      "\u001b[0;32m~/anaconda3/lib/python3.8/site-packages/tensorflow/python/eager/def_function.py\u001b[0m in \u001b[0;36m_call\u001b[0;34m(self, *args, **kwds)\u001b[0m\n\u001b[1;32m    616\u001b[0m       \u001b[0;31m# In this case we have not created variables on the first call. So we can\u001b[0m\u001b[0;34m\u001b[0m\u001b[0;34m\u001b[0m\u001b[0;34m\u001b[0m\u001b[0m\n\u001b[1;32m    617\u001b[0m       \u001b[0;31m# run the first trace but we should fail if variables are created.\u001b[0m\u001b[0;34m\u001b[0m\u001b[0;34m\u001b[0m\u001b[0;34m\u001b[0m\u001b[0m\n\u001b[0;32m--> 618\u001b[0;31m       \u001b[0mresults\u001b[0m \u001b[0;34m=\u001b[0m \u001b[0mself\u001b[0m\u001b[0;34m.\u001b[0m\u001b[0m_stateful_fn\u001b[0m\u001b[0;34m(\u001b[0m\u001b[0;34m*\u001b[0m\u001b[0margs\u001b[0m\u001b[0;34m,\u001b[0m \u001b[0;34m**\u001b[0m\u001b[0mkwds\u001b[0m\u001b[0;34m)\u001b[0m\u001b[0;34m\u001b[0m\u001b[0;34m\u001b[0m\u001b[0m\n\u001b[0m\u001b[1;32m    619\u001b[0m       \u001b[0;32mif\u001b[0m \u001b[0mself\u001b[0m\u001b[0;34m.\u001b[0m\u001b[0m_created_variables\u001b[0m\u001b[0;34m:\u001b[0m\u001b[0;34m\u001b[0m\u001b[0;34m\u001b[0m\u001b[0m\n\u001b[1;32m    620\u001b[0m         raise ValueError(\"Creating variables on a non-first call to a function\"\n",
      "\u001b[0;32m~/anaconda3/lib/python3.8/site-packages/tensorflow/python/eager/function.py\u001b[0m in \u001b[0;36m__call__\u001b[0;34m(self, *args, **kwargs)\u001b[0m\n\u001b[1;32m   2417\u001b[0m     \u001b[0;34m\"\"\"Calls a graph function specialized to the inputs.\"\"\"\u001b[0m\u001b[0;34m\u001b[0m\u001b[0;34m\u001b[0m\u001b[0m\n\u001b[1;32m   2418\u001b[0m     \u001b[0;32mwith\u001b[0m \u001b[0mself\u001b[0m\u001b[0;34m.\u001b[0m\u001b[0m_lock\u001b[0m\u001b[0;34m:\u001b[0m\u001b[0;34m\u001b[0m\u001b[0;34m\u001b[0m\u001b[0m\n\u001b[0;32m-> 2419\u001b[0;31m       \u001b[0mgraph_function\u001b[0m\u001b[0;34m,\u001b[0m \u001b[0margs\u001b[0m\u001b[0;34m,\u001b[0m \u001b[0mkwargs\u001b[0m \u001b[0;34m=\u001b[0m \u001b[0mself\u001b[0m\u001b[0;34m.\u001b[0m\u001b[0m_maybe_define_function\u001b[0m\u001b[0;34m(\u001b[0m\u001b[0margs\u001b[0m\u001b[0;34m,\u001b[0m \u001b[0mkwargs\u001b[0m\u001b[0;34m)\u001b[0m\u001b[0;34m\u001b[0m\u001b[0;34m\u001b[0m\u001b[0m\n\u001b[0m\u001b[1;32m   2420\u001b[0m     \u001b[0;32mreturn\u001b[0m \u001b[0mgraph_function\u001b[0m\u001b[0;34m.\u001b[0m\u001b[0m_filtered_call\u001b[0m\u001b[0;34m(\u001b[0m\u001b[0margs\u001b[0m\u001b[0;34m,\u001b[0m \u001b[0mkwargs\u001b[0m\u001b[0;34m)\u001b[0m  \u001b[0;31m# pylint: disable=protected-access\u001b[0m\u001b[0;34m\u001b[0m\u001b[0;34m\u001b[0m\u001b[0m\n\u001b[1;32m   2421\u001b[0m \u001b[0;34m\u001b[0m\u001b[0m\n",
      "\u001b[0;32m~/anaconda3/lib/python3.8/site-packages/tensorflow/python/eager/function.py\u001b[0m in \u001b[0;36m_maybe_define_function\u001b[0;34m(self, args, kwargs)\u001b[0m\n\u001b[1;32m   2772\u001b[0m           \u001b[0;32mand\u001b[0m \u001b[0mself\u001b[0m\u001b[0;34m.\u001b[0m\u001b[0minput_signature\u001b[0m \u001b[0;32mis\u001b[0m \u001b[0;32mNone\u001b[0m\u001b[0;34m\u001b[0m\u001b[0;34m\u001b[0m\u001b[0m\n\u001b[1;32m   2773\u001b[0m           and call_context_key in self._function_cache.missed):\n\u001b[0;32m-> 2774\u001b[0;31m         \u001b[0;32mreturn\u001b[0m \u001b[0mself\u001b[0m\u001b[0;34m.\u001b[0m\u001b[0m_define_function_with_shape_relaxation\u001b[0m\u001b[0;34m(\u001b[0m\u001b[0margs\u001b[0m\u001b[0;34m,\u001b[0m \u001b[0mkwargs\u001b[0m\u001b[0;34m)\u001b[0m\u001b[0;34m\u001b[0m\u001b[0;34m\u001b[0m\u001b[0m\n\u001b[0m\u001b[1;32m   2775\u001b[0m \u001b[0;34m\u001b[0m\u001b[0m\n\u001b[1;32m   2776\u001b[0m       \u001b[0mself\u001b[0m\u001b[0;34m.\u001b[0m\u001b[0m_function_cache\u001b[0m\u001b[0;34m.\u001b[0m\u001b[0mmissed\u001b[0m\u001b[0;34m.\u001b[0m\u001b[0madd\u001b[0m\u001b[0;34m(\u001b[0m\u001b[0mcall_context_key\u001b[0m\u001b[0;34m)\u001b[0m\u001b[0;34m\u001b[0m\u001b[0;34m\u001b[0m\u001b[0m\n",
      "\u001b[0;32m~/anaconda3/lib/python3.8/site-packages/tensorflow/python/eager/function.py\u001b[0m in \u001b[0;36m_define_function_with_shape_relaxation\u001b[0;34m(self, args, kwargs)\u001b[0m\n\u001b[1;32m   2703\u001b[0m     self._function_cache.arg_relaxed_shapes[rank_only_cache_key] = (\n\u001b[1;32m   2704\u001b[0m         relaxed_arg_shapes)\n\u001b[0;32m-> 2705\u001b[0;31m     graph_function = self._create_graph_function(\n\u001b[0m\u001b[1;32m   2706\u001b[0m         args, kwargs, override_flat_arg_shapes=relaxed_arg_shapes)\n\u001b[1;32m   2707\u001b[0m     \u001b[0mself\u001b[0m\u001b[0;34m.\u001b[0m\u001b[0m_function_cache\u001b[0m\u001b[0;34m.\u001b[0m\u001b[0marg_relaxed\u001b[0m\u001b[0;34m[\u001b[0m\u001b[0mrank_only_cache_key\u001b[0m\u001b[0;34m]\u001b[0m \u001b[0;34m=\u001b[0m \u001b[0mgraph_function\u001b[0m\u001b[0;34m\u001b[0m\u001b[0;34m\u001b[0m\u001b[0m\n",
      "\u001b[0;32m~/anaconda3/lib/python3.8/site-packages/tensorflow/python/eager/function.py\u001b[0m in \u001b[0;36m_create_graph_function\u001b[0;34m(self, args, kwargs, override_flat_arg_shapes)\u001b[0m\n\u001b[1;32m   2655\u001b[0m     \u001b[0marg_names\u001b[0m \u001b[0;34m=\u001b[0m \u001b[0mbase_arg_names\u001b[0m \u001b[0;34m+\u001b[0m \u001b[0mmissing_arg_names\u001b[0m\u001b[0;34m\u001b[0m\u001b[0;34m\u001b[0m\u001b[0m\n\u001b[1;32m   2656\u001b[0m     graph_function = ConcreteFunction(\n\u001b[0;32m-> 2657\u001b[0;31m         func_graph_module.func_graph_from_py_func(\n\u001b[0m\u001b[1;32m   2658\u001b[0m             \u001b[0mself\u001b[0m\u001b[0;34m.\u001b[0m\u001b[0m_name\u001b[0m\u001b[0;34m,\u001b[0m\u001b[0;34m\u001b[0m\u001b[0;34m\u001b[0m\u001b[0m\n\u001b[1;32m   2659\u001b[0m             \u001b[0mself\u001b[0m\u001b[0;34m.\u001b[0m\u001b[0m_python_function\u001b[0m\u001b[0;34m,\u001b[0m\u001b[0;34m\u001b[0m\u001b[0;34m\u001b[0m\u001b[0m\n",
      "\u001b[0;32m~/anaconda3/lib/python3.8/site-packages/tensorflow/python/framework/func_graph.py\u001b[0m in \u001b[0;36mfunc_graph_from_py_func\u001b[0;34m(name, python_func, args, kwargs, signature, func_graph, autograph, autograph_options, add_control_dependencies, arg_names, op_return_value, collections, capture_by_value, override_flat_arg_shapes)\u001b[0m\n\u001b[1;32m    979\u001b[0m         \u001b[0m_\u001b[0m\u001b[0;34m,\u001b[0m \u001b[0moriginal_func\u001b[0m \u001b[0;34m=\u001b[0m \u001b[0mtf_decorator\u001b[0m\u001b[0;34m.\u001b[0m\u001b[0munwrap\u001b[0m\u001b[0;34m(\u001b[0m\u001b[0mpython_func\u001b[0m\u001b[0;34m)\u001b[0m\u001b[0;34m\u001b[0m\u001b[0;34m\u001b[0m\u001b[0m\n\u001b[1;32m    980\u001b[0m \u001b[0;34m\u001b[0m\u001b[0m\n\u001b[0;32m--> 981\u001b[0;31m       \u001b[0mfunc_outputs\u001b[0m \u001b[0;34m=\u001b[0m \u001b[0mpython_func\u001b[0m\u001b[0;34m(\u001b[0m\u001b[0;34m*\u001b[0m\u001b[0mfunc_args\u001b[0m\u001b[0;34m,\u001b[0m \u001b[0;34m**\u001b[0m\u001b[0mfunc_kwargs\u001b[0m\u001b[0;34m)\u001b[0m\u001b[0;34m\u001b[0m\u001b[0;34m\u001b[0m\u001b[0m\n\u001b[0m\u001b[1;32m    982\u001b[0m \u001b[0;34m\u001b[0m\u001b[0m\n\u001b[1;32m    983\u001b[0m       \u001b[0;31m# invariant: `func_outputs` contains only Tensors, CompositeTensors,\u001b[0m\u001b[0;34m\u001b[0m\u001b[0;34m\u001b[0m\u001b[0;34m\u001b[0m\u001b[0m\n",
      "\u001b[0;32m~/anaconda3/lib/python3.8/site-packages/tensorflow/python/eager/def_function.py\u001b[0m in \u001b[0;36mwrapped_fn\u001b[0;34m(*args, **kwds)\u001b[0m\n\u001b[1;32m    439\u001b[0m         \u001b[0;31m# __wrapped__ allows AutoGraph to swap in a converted function. We give\u001b[0m\u001b[0;34m\u001b[0m\u001b[0;34m\u001b[0m\u001b[0;34m\u001b[0m\u001b[0m\n\u001b[1;32m    440\u001b[0m         \u001b[0;31m# the function a weak reference to itself to avoid a reference cycle.\u001b[0m\u001b[0;34m\u001b[0m\u001b[0;34m\u001b[0m\u001b[0;34m\u001b[0m\u001b[0m\n\u001b[0;32m--> 441\u001b[0;31m         \u001b[0;32mreturn\u001b[0m \u001b[0mweak_wrapped_fn\u001b[0m\u001b[0;34m(\u001b[0m\u001b[0;34m)\u001b[0m\u001b[0;34m.\u001b[0m\u001b[0m__wrapped__\u001b[0m\u001b[0;34m(\u001b[0m\u001b[0;34m*\u001b[0m\u001b[0margs\u001b[0m\u001b[0;34m,\u001b[0m \u001b[0;34m**\u001b[0m\u001b[0mkwds\u001b[0m\u001b[0;34m)\u001b[0m\u001b[0;34m\u001b[0m\u001b[0;34m\u001b[0m\u001b[0m\n\u001b[0m\u001b[1;32m    442\u001b[0m     \u001b[0mweak_wrapped_fn\u001b[0m \u001b[0;34m=\u001b[0m \u001b[0mweakref\u001b[0m\u001b[0;34m.\u001b[0m\u001b[0mref\u001b[0m\u001b[0;34m(\u001b[0m\u001b[0mwrapped_fn\u001b[0m\u001b[0;34m)\u001b[0m\u001b[0;34m\u001b[0m\u001b[0;34m\u001b[0m\u001b[0m\n\u001b[1;32m    443\u001b[0m \u001b[0;34m\u001b[0m\u001b[0m\n",
      "\u001b[0;32m~/anaconda3/lib/python3.8/site-packages/tensorflow/python/framework/func_graph.py\u001b[0m in \u001b[0;36mwrapper\u001b[0;34m(*args, **kwargs)\u001b[0m\n\u001b[1;32m    966\u001b[0m           \u001b[0;32mexcept\u001b[0m \u001b[0mException\u001b[0m \u001b[0;32mas\u001b[0m \u001b[0me\u001b[0m\u001b[0;34m:\u001b[0m  \u001b[0;31m# pylint:disable=broad-except\u001b[0m\u001b[0;34m\u001b[0m\u001b[0;34m\u001b[0m\u001b[0m\n\u001b[1;32m    967\u001b[0m             \u001b[0;32mif\u001b[0m \u001b[0mhasattr\u001b[0m\u001b[0;34m(\u001b[0m\u001b[0me\u001b[0m\u001b[0;34m,\u001b[0m \u001b[0;34m\"ag_error_metadata\"\u001b[0m\u001b[0;34m)\u001b[0m\u001b[0;34m:\u001b[0m\u001b[0;34m\u001b[0m\u001b[0;34m\u001b[0m\u001b[0m\n\u001b[0;32m--> 968\u001b[0;31m               \u001b[0;32mraise\u001b[0m \u001b[0me\u001b[0m\u001b[0;34m.\u001b[0m\u001b[0mag_error_metadata\u001b[0m\u001b[0;34m.\u001b[0m\u001b[0mto_exception\u001b[0m\u001b[0;34m(\u001b[0m\u001b[0me\u001b[0m\u001b[0;34m)\u001b[0m\u001b[0;34m\u001b[0m\u001b[0;34m\u001b[0m\u001b[0m\n\u001b[0m\u001b[1;32m    969\u001b[0m             \u001b[0;32melse\u001b[0m\u001b[0;34m:\u001b[0m\u001b[0;34m\u001b[0m\u001b[0;34m\u001b[0m\u001b[0m\n\u001b[1;32m    970\u001b[0m               \u001b[0;32mraise\u001b[0m\u001b[0;34m\u001b[0m\u001b[0;34m\u001b[0m\u001b[0m\n",
      "\u001b[0;31mValueError\u001b[0m: in user code:\n\n    /home/laslo-bep/anaconda3/lib/python3.8/site-packages/tensorflow/python/keras/engine/training.py:1147 predict_function  *\n        outputs = self.distribute_strategy.run(\n    /home/laslo-bep/anaconda3/lib/python3.8/site-packages/tensorflow/python/distribute/distribute_lib.py:951 run  **\n        return self._extended.call_for_each_replica(fn, args=args, kwargs=kwargs)\n    /home/laslo-bep/anaconda3/lib/python3.8/site-packages/tensorflow/python/distribute/distribute_lib.py:2290 call_for_each_replica\n        return self._call_for_each_replica(fn, args, kwargs)\n    /home/laslo-bep/anaconda3/lib/python3.8/site-packages/tensorflow/python/distribute/distribute_lib.py:2649 _call_for_each_replica\n        return fn(*args, **kwargs)\n    /home/laslo-bep/anaconda3/lib/python3.8/site-packages/tensorflow/python/keras/engine/training.py:1122 predict_step  **\n        return self(x, training=False)\n    /home/laslo-bep/anaconda3/lib/python3.8/site-packages/tensorflow/python/keras/engine/base_layer.py:927 __call__\n        outputs = call_fn(cast_inputs, *args, **kwargs)\n    /home/laslo-bep/anaconda3/lib/python3.8/site-packages/tensorflow/python/keras/engine/network.py:717 call\n        return self._run_internal_graph(\n    /home/laslo-bep/anaconda3/lib/python3.8/site-packages/tensorflow/python/keras/engine/network.py:888 _run_internal_graph\n        output_tensors = layer(computed_tensors, **kwargs)\n    /home/laslo-bep/anaconda3/lib/python3.8/site-packages/tensorflow/python/keras/engine/base_layer.py:885 __call__\n        input_spec.assert_input_compatibility(self.input_spec, inputs,\n    /home/laslo-bep/anaconda3/lib/python3.8/site-packages/tensorflow/python/keras/engine/input_spec.py:212 assert_input_compatibility\n        raise ValueError(\n\n    ValueError: Input 0 of layer conv2d is incompatible with the layer: expected axis -1 of input shape to have value 2 but received input with shape [None, 800, 400, 1]\n"
     ]
    }
   ],
   "source": [
    "#Visualise the bandwidth limited, model predicted and target image\n",
    "n =5\n",
    "prediction = model.predict(np.expand_dims(Test_set_X[n,:800,:400],0))\n",
    "\n",
    "prediction_image = prediction.squeeze()\n",
    "\n",
    "fig,ax = plt.subplots(1,3, figsize=(12,6))\n",
    "ax[0].imshow(Test_set_X[n].squeeze(),cmap = 'gray')\n",
    "ax[1].imshow(Test_set_X[n,:800,:400].squeeze()+prediction_image,cmap='gray')\n",
    "ax[2].imshow(Test_set_y[n].squeeze(),cmap='gray')\n",
    "plt.show()"
   ]
  },
  {
   "cell_type": "code",
   "execution_count": 10,
   "metadata": {},
   "outputs": [
    {
     "name": "stdout",
     "output_type": "stream",
     "text": [
      "Done\n",
      "Done\n",
      "Done\n"
     ]
    }
   ],
   "source": [
    "def CreateTestSet(test_set_indices,input_dir_test,output_dir_test):\n",
    "    \"\"\"\n",
    "    Function that reads in the test set images as arrays and scales them between 0 and 1\n",
    "    parameters:test_set_indices: The indices of the the images in the test set\n",
    "                 input_dir_test: The directory where the input png images are stored\n",
    "                output_dir_test: The directory where the output png images are stored\n",
    "    returns: Test_set_X: an array of input images\n",
    "             Test_set_y: an array of output images\n",
    "    \"\"\"\n",
    "    Test_set_X = np.zeros((len(test_set_indices), 801, 401, 1), dtype=np.float32)\n",
    "    Test_set_y = np.zeros((len(test_set_indices), 801, 401, 1), dtype=np.float32)\n",
    "    for i,n in enumerate(test_set_indices):\n",
    "        img = Image.open(input_dir_test+'/input_%03d.png' % (n+1))\n",
    "        in_img_input = tf.keras.preprocessing.image.img_to_array(img)\n",
    "        in_img_input = skimage.transform.resize(in_img_input , (801 , 401 , 1) , mode = 'constant' , preserve_range = True)\n",
    "        Test_set_X[i] =in_img_input / 255.0\n",
    "\n",
    "        img = Image.open(output_dir_test+'/target_%03d.png' % (n+1))\n",
    "        in_img_output = tf.keras.preprocessing.image.img_to_array(img)\n",
    "        in_img_output = skimage.transform.resize(in_img_output , (801 , 401 , 1) , mode = 'constant' , preserve_range = True)\n",
    "        Test_set_y[i] =in_img_output / 255.0    \n",
    "    print('Done')\n",
    "    return Test_set_X, Test_set_y\n",
    "#run for all the test sets\n",
    "for dataset in ['','CIRS_','carotid_']:\n",
    "    if dataset == '':\n",
    "        test_set_indices = range(535,669)\n",
    "        input_dir_test = 'bandLimited'\n",
    "        output_dir_test = 'groundTruth'\n",
    "    if dataset == 'CIRS_':\n",
    "        test_set_indices = range(11)\n",
    "        input_dir_test = 'CIRSBandLimited'\n",
    "        output_dir_test = 'CIRSGroundTruth'\n",
    "    if dataset =='carotid_':\n",
    "        test_set_indices = range(70)\n",
    "        input_dir_test = 'carotidBandLimited'\n",
    "        output_dir_test = 'carotidGroundTruth'\n",
    "    #Create the input and output arrays for the test set\n",
    "    Test_set_X, Test_set_y = CreateTestSet(test_set_indices,input_dir_test,output_dir_test)    \n",
    "    val_set_model1 = np.load('Model_output_test_'+dataset+'unetmodel1_ultrasound.npy')\n",
    "    val_set_model2 = np.load('Model_output_test_'+dataset+'unetmodel2_ultrasound.npy')\n",
    "    MODEL1 = np.zeros([len(val_set_model1),800,400,1])\n",
    "    MODEL2 = np.zeros([len(val_set_model1),800,400,1])\n",
    "    for i in range(len(val_set_model1)):\n",
    "        img1 = skimage.transform.resize(val_set_model1[i] , (800 , 400 , 1) , mode = 'constant' , preserve_range = True)\n",
    "        img2 = skimage.transform.resize(val_set_model2[i] , (800, 400 , 1) , mode = 'constant' , preserve_range = True)\n",
    "        MODEL1[i] = img1\n",
    "        MODEL2[i] = img2\n",
    "    val_set_model1and2 = np.concatenate((MODEL1,MODEL2),axis=-1)\n",
    "    prediction_images = np.zeros_like(val_set_model1)\n",
    "    for i in range(len(val_set_model1)):\n",
    "        predicted_array = model.predict(np.expand_dims(val_set_model1and2[i],0))\n",
    "        prediction_IMAGE = predicted_array.squeeze()\n",
    "        prediction_images[i] = prediction_IMAGE\n",
    "    np.save('Model_output_test_'+dataset+'unetmodel4_ultrasound.npy',prediction_images)"
   ]
  }
 ],
 "metadata": {
  "accelerator": "GPU",
  "colab": {
   "collapsed_sections": [],
   "name": "UNet-Implementation.ipynb",
   "provenance": [],
   "version": "0.3.2"
  },
  "kernelspec": {
   "display_name": "Python 3",
   "language": "python",
   "name": "python3"
  },
  "language_info": {
   "codemirror_mode": {
    "name": "ipython",
    "version": 3
   },
   "file_extension": ".py",
   "mimetype": "text/x-python",
   "name": "python",
   "nbconvert_exporter": "python",
   "pygments_lexer": "ipython3",
   "version": "3.8.3"
  }
 },
 "nbformat": 4,
 "nbformat_minor": 1
}
