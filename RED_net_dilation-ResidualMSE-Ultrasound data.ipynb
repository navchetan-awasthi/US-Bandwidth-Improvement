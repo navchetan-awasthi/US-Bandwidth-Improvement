{
 "cells": [
  {
   "cell_type": "code",
   "execution_count": 1,
   "metadata": {
    "colab": {},
    "colab_type": "code",
    "id": "tOG84vhD_Fgr"
   },
   "outputs": [],
   "source": [
    "#import the neccesary libraries\n",
    "import tensorflow as tf\n",
    "import pandas as pd\n",
    "import numpy as np\n",
    "import matplotlib.pyplot as plt\n",
    "import random\n",
    "from PIL import Image\n",
    "import numpy as np\n",
    "import skimage\n",
    "import skimage.transform\n",
    "import os\n",
    "import tensorflow.keras.backend as K\n",
    "from skimage.metrics import structural_similarity as ssim\n",
    "import math\n",
    "from tensorflow.keras.applications.vgg16 import VGG16\n",
    "from sobel_edge import sobel \n",
    "\n",
    "os.environ[\"CUDA_VISIBLE_DEVICES\"]=\"0\""
   ]
  },
  {
   "cell_type": "code",
   "execution_count": 24,
   "metadata": {
    "scrolled": false
   },
   "outputs": [
    {
     "name": "stdout",
     "output_type": "stream",
     "text": [
      "0\n",
      "1000\n",
      "2000\n",
      "Done\n",
      "0\n",
      "Done\n"
     ]
    }
   ],
   "source": [
    "import skimage.transform\n",
    "\n",
    "def CreateSet(input_list,input_dir,output_dir,N_patches,patchsize):\n",
    "    \"\"\"\n",
    "    Creates an array that can be used as input and output for the model\n",
    "    parameters: input_list, a list with indices of the images that are used\n",
    "                N_patches, the amount of image patches the model creates per image\n",
    "                patchszize, the width and height of the square image patch\n",
    "    \n",
    "    \"\"\"\n",
    "    X = np.zeros((len(input_list)*N_patches, patchsize, patchsize, 1), dtype=np.float32)\n",
    "    y = np.zeros((len(input_list)*N_patches, patchsize, patchsize, 1), dtype=np.float32)\n",
    "    for j in range(N_patches):\n",
    "        for n,i in enumerate(input_list):\n",
    "            #random pixel location\n",
    "            ii = j*len(input_list)+n\n",
    "            xloc = random.randint(0,401-patchsize)\n",
    "            yloc = random.randint(0,801-patchsize)\n",
    "            #input \n",
    "            img_input = Image.open(input_dir+'/input_%03d.png' % (i+1))\n",
    "            in_img_input = tf.keras.preprocessing.image.img_to_array(img_input)\n",
    "            in_img_input = in_img_input[yloc:yloc+patchsize,xloc:xloc+patchsize]\n",
    "            in_img_input = skimage.transform.resize(in_img_input , (patchsize , patchsize , 1) , mode = 'constant' , preserve_range = True)\n",
    "            X[ii] = in_img_input / 255.0\n",
    "\n",
    "            #output\n",
    "            img_output = Image.open(output_dir+'/target_%03d.png' % (i+1))\n",
    "            in_img_output = tf.keras.preprocessing.image.img_to_array(img_output)\n",
    "            in_img_output = in_img_output[yloc:yloc+patchsize,xloc:xloc+patchsize]\n",
    "            in_img_output = skimage.transform.resize(in_img_output , (patchsize , patchsize , 1) , mode = 'constant' , preserve_range = True)\n",
    "            in_img_output = in_img_output-in_img_input\n",
    "            y[ii] = in_img_output / 255.0\n",
    "            if ii % 1000 == 0:\n",
    "                print(ii)\n",
    "    print('Done')\n",
    "    return X,y\n",
    "#amount of patches per image\n",
    "N_patches = 64\n",
    "#width and height of the patches\n",
    "patchsize = 128\n",
    "# input_dir = 'bandLimited'\n",
    "# output_dir = 'groundTruth'\n",
    "# input_dir = 'CIRSBandLimited'\n",
    "# output_dir = 'CIRSGroundTruth'\n",
    "input_dir = 'carotidBandLimited'\n",
    "output_dir = 'carotidGroundTruth'\n",
    "\n",
    "#Train set is image 1 till 401\n",
    "X_train,y_train = CreateSet(range(42),input_dir,output_dir,N_patches,patchsize)\n",
    "#validation set is image 402 till 535\n",
    "X_valid,y_valid = CreateSet(range(42,56),input_dir,output_dir,N_patches,patchsize)"
   ]
  },
  {
   "cell_type": "code",
   "execution_count": 2,
   "metadata": {
    "colab": {},
    "colab_type": "code",
    "id": "Xt_4VuyFAzRI"
   },
   "outputs": [],
   "source": [
    "def Sobel(x):\n",
    "    dims = tf.shape (x)#return tf.squeeze( tf.image.sobel_edges(x))\n",
    "    return tf.reshape(sobel(x),[dims[0],dims[1],dims[2],4])\n",
    "\n",
    "def Sobel_shape(input_shape):\n",
    "    dims = [input_shape[0],input_shape[1] ,input_shape[2],4]\n",
    "    output_shape = tuple(dims)\n",
    "    return output_shape\n",
    "\n",
    "def RED_Net(img_tensor , n_filters = 64):\n",
    "    \"\"\"\n",
    "    Creates the RED_net model\n",
    "    returns: RED_net, the RED_net model\n",
    "    \"\"\"\n",
    "# #     #block1 (connection 1-->2)\n",
    "    shortcut1 = img_tensor\n",
    "    \n",
    "    #layer 1: edge detection layer which uses four kernel filters-\n",
    "    x = tf.keras.layers.Lambda(Sobel, output_shape =  Sobel_shape, name='sobel-edge')(img_tensor)    #block1 (connection 1-->2)\n",
    "    \n",
    "    x = tf.keras.layers.concatenate([x, shortcut1])\n",
    "    \n",
    "#     #block 2(connection 2-->9)\n",
    "    shortcut2 = x\n",
    "#     #layer 2\n",
    "    x = tf.keras.layers.Conv2D(filters = n_filters , kernel_size = (5 , 5), padding = 'same')(x)\n",
    "    \n",
    "    #block 3(connection 3-->8)\n",
    "    shortcut3 = x\n",
    "    #layer 3\n",
    "    x = tf.keras.layers.Conv2D(filters = n_filters , kernel_size = (3 , 3) , dilation_rate=2, padding = 'same')(x)\n",
    "    x = tf.keras.layers.BatchNormalization()(x)\n",
    "    x = tf.keras.layers.Activation('relu')(x)\n",
    "    x = tf.keras.layers.Dropout(0.05)(x)\n",
    "    \n",
    "#     #block 4 (connection 4-->7)\n",
    "    shortcut4 = x\n",
    "    #layer 4\n",
    "    x = tf.keras.layers.Conv2D(filters = n_filters , kernel_size = (3 , 3) , dilation_rate=3, padding = 'same')(x)\n",
    "    x = tf.keras.layers.BatchNormalization()(x)\n",
    "    x = tf.keras.layers.Activation('relu')(x)\n",
    "    x = tf.keras.layers.Dropout(0.05)(x)\n",
    "    \n",
    "    #layer 5\n",
    "    x = tf.keras.layers.Conv2D(filters = n_filters , kernel_size = (3 , 3) , dilation_rate=4, padding = 'same')(x)\n",
    "    x = tf.keras.layers.BatchNormalization()(x)\n",
    "    x = tf.keras.layers.Activation('relu')(x)\n",
    "    x = tf.keras.layers.Dropout(0.05)(x)\n",
    "    \n",
    "    #layer 6\n",
    "    x = tf.keras.layers.Conv2D(filters = n_filters , kernel_size = (3 , 3) , dilation_rate=3, padding = 'same')(x)\n",
    "    x = tf.keras.layers.BatchNormalization()(x)\n",
    "    x = tf.keras.layers.Activation('relu')(x)\n",
    "    \n",
    "#     #block 4 (connection 4-->7)\n",
    "    x = tf.keras.layers.concatenate([x, shortcut4])\n",
    "\n",
    "    #layer 7\n",
    "    x = tf.keras.layers.Conv2D(filters = n_filters ,kernel_size = (3 , 3),dilation_rate=2,padding = 'same')(x) \n",
    "    x = tf.keras.layers.BatchNormalization()(x)\n",
    "    x = tf.keras.layers.Activation('relu')(x)\n",
    "    \n",
    "    #block 3(connection 3-->8)    \n",
    "    x = tf.keras.layers.concatenate([x, shortcut3])\n",
    "\n",
    "    #layer 8\n",
    "    x = tf.keras.layers.Conv2D(1 , (3 , 3), padding = 'same')(x)\n",
    "    #block 2(connection 2-->9)\n",
    "    x = tf.keras.layers.concatenate([x, shortcut2])\n",
    "\n",
    "    #layer 9 \n",
    "    output = tf.keras.layers.Conv2D(1 , (3 , 3) , padding = 'same')(x)\n",
    "\n",
    "    RED_net = tf.keras.Model(inputs = [img_tensor] , outputs = [output])\n",
    "\n",
    "    return RED_net"
   ]
  },
  {
   "cell_type": "code",
   "execution_count": 3,
   "metadata": {},
   "outputs": [],
   "source": [
    "def CustomMSE(y_predict,y_true):\n",
    "    \"\"\"\n",
    "    An MSE loss function that is scaled with 1e3\n",
    "    \"\"\"\n",
    "    factor = 1e3\n",
    "    mse = factor*K.mean(K.square(y_predict-y_true))\n",
    "    return mse\n",
    "    "
   ]
  },
  {
   "cell_type": "code",
   "execution_count": 4,
   "metadata": {
    "colab": {
     "base_uri": "https://localhost:8080/",
     "height": 138
    },
    "colab_type": "code",
    "id": "P6bKNYDv8PxF",
    "outputId": "53c556e0-1b76-409a-c4aa-ba58c472930e"
   },
   "outputs": [],
   "source": [
    "#define and compile the model\n",
    "img_tensor = tf.keras.layers.Input((None , None , 1) , name = 'img_tensor')\n",
    "model = RED_Net(img_tensor,64)\n",
    "model.compile(optimizer = tf.keras.optimizers.Adam(lr=1e-4, beta_1=0.9, beta_2=0.999, epsilon=1e-08, decay=0.0),\n",
    "            loss = CustomMSE,\n",
    "            metrics=[tf.keras.metrics.RootMeanSquaredError()])"
   ]
  },
  {
   "cell_type": "code",
   "execution_count": 5,
   "metadata": {
    "colab": {},
    "colab_type": "code",
    "id": "Hx0xnc4kANzc"
   },
   "outputs": [],
   "source": [
    "model_path = 'model_RED_net_residual_ultrasound.h5'\n",
    "callbacks = [\n",
    "    tf.keras.callbacks.EarlyStopping(patience=10, verbose=1),\n",
    "    tf.keras.callbacks.ReduceLROnPlateau(factor=0.1, patience=5, min_lr=0.0001, verbose=1),\n",
    "    tf.keras.callbacks.ModelCheckpoint(model_path, verbose=1, save_best_only=True, save_weights_only=True)\n",
    "]"
   ]
  },
  {
   "cell_type": "code",
   "execution_count": 6,
   "metadata": {
    "colab": {},
    "colab_type": "code",
    "id": "uXgvQE67EC8G"
   },
   "outputs": [],
   "source": [
    "#load the model\n",
    "model.load_weights('model_RED_net_residual_ultrasound.h5')"
   ]
  },
  {
   "cell_type": "code",
   "execution_count": 9,
   "metadata": {
    "colab": {
     "base_uri": "https://localhost:8080/",
     "height": 2772
    },
    "colab_type": "code",
    "id": "ewoQSgb9-Owo",
    "outputId": "e7d76ce5-ee4d-42a5-9437-9be4dc6ccb98"
   },
   "outputs": [],
   "source": [
    "# model.summary()"
   ]
  },
  {
   "cell_type": "code",
   "execution_count": 32,
   "metadata": {
    "colab": {
     "base_uri": "https://localhost:8080/",
     "height": 1616
    },
    "colab_type": "code",
    "id": "jiBmsTy_Anok",
    "outputId": "d350828c-a393-41ad-89f8-38123f726333",
    "scrolled": true
   },
   "outputs": [
    {
     "name": "stdout",
     "output_type": "stream",
     "text": [
      "Epoch 1/100\n",
      "168/168 [==============================] - ETA: 0s - loss: 8.2682 - root_mean_squared_error: 0.0909\n",
      "Epoch 00001: val_loss improved from inf to 8.83079, saving model to model_RED_net_residual_ultrasound_carotid.h5\n",
      "168/168 [==============================] - 16s 93ms/step - loss: 8.2682 - root_mean_squared_error: 0.0909 - val_loss: 8.8308 - val_root_mean_squared_error: 0.0940 - lr: 1.0000e-04\n",
      "Epoch 2/100\n",
      "168/168 [==============================] - ETA: 0s - loss: 7.9318 - root_mean_squared_error: 0.0891\n",
      "Epoch 00002: val_loss improved from 8.83079 to 8.71379, saving model to model_RED_net_residual_ultrasound_carotid.h5\n",
      "168/168 [==============================] - 15s 91ms/step - loss: 7.9318 - root_mean_squared_error: 0.0891 - val_loss: 8.7138 - val_root_mean_squared_error: 0.0933 - lr: 1.0000e-04\n",
      "Epoch 3/100\n",
      "168/168 [==============================] - ETA: 0s - loss: 7.8022 - root_mean_squared_error: 0.0883\n",
      "Epoch 00003: val_loss improved from 8.71379 to 8.70597, saving model to model_RED_net_residual_ultrasound_carotid.h5\n",
      "168/168 [==============================] - 15s 91ms/step - loss: 7.8022 - root_mean_squared_error: 0.0883 - val_loss: 8.7060 - val_root_mean_squared_error: 0.0933 - lr: 1.0000e-04\n",
      "Epoch 4/100\n",
      "168/168 [==============================] - ETA: 0s - loss: 7.7124 - root_mean_squared_error: 0.0878\n",
      "Epoch 00004: val_loss did not improve from 8.70597\n",
      "168/168 [==============================] - 15s 91ms/step - loss: 7.7124 - root_mean_squared_error: 0.0878 - val_loss: 8.7361 - val_root_mean_squared_error: 0.0935 - lr: 1.0000e-04\n",
      "Epoch 5/100\n",
      "168/168 [==============================] - ETA: 0s - loss: 7.6428 - root_mean_squared_error: 0.0874\n",
      "Epoch 00005: val_loss did not improve from 8.70597\n",
      "168/168 [==============================] - 15s 92ms/step - loss: 7.6428 - root_mean_squared_error: 0.0874 - val_loss: 8.7674 - val_root_mean_squared_error: 0.0936 - lr: 1.0000e-04\n",
      "Epoch 6/100\n",
      "168/168 [==============================] - ETA: 0s - loss: 7.5872 - root_mean_squared_error: 0.0871\n",
      "Epoch 00006: val_loss did not improve from 8.70597\n",
      "168/168 [==============================] - 15s 92ms/step - loss: 7.5872 - root_mean_squared_error: 0.0871 - val_loss: 8.7948 - val_root_mean_squared_error: 0.0938 - lr: 1.0000e-04\n",
      "Epoch 7/100\n",
      "168/168 [==============================] - ETA: 0s - loss: 7.5386 - root_mean_squared_error: 0.0868\n",
      "Epoch 00007: val_loss did not improve from 8.70597\n",
      "168/168 [==============================] - 15s 92ms/step - loss: 7.5386 - root_mean_squared_error: 0.0868 - val_loss: 8.8013 - val_root_mean_squared_error: 0.0938 - lr: 1.0000e-04\n",
      "Epoch 8/100\n",
      "168/168 [==============================] - ETA: 0s - loss: 7.4957 - root_mean_squared_error: 0.0866\n",
      "Epoch 00008: val_loss did not improve from 8.70597\n",
      "168/168 [==============================] - 15s 92ms/step - loss: 7.4957 - root_mean_squared_error: 0.0866 - val_loss: 8.8325 - val_root_mean_squared_error: 0.0940 - lr: 1.0000e-04\n",
      "Epoch 9/100\n",
      "168/168 [==============================] - ETA: 0s - loss: 7.4603 - root_mean_squared_error: 0.0864\n",
      "Epoch 00009: val_loss did not improve from 8.70597\n",
      "168/168 [==============================] - 15s 92ms/step - loss: 7.4603 - root_mean_squared_error: 0.0864 - val_loss: 8.8404 - val_root_mean_squared_error: 0.0940 - lr: 1.0000e-04\n",
      "Epoch 10/100\n",
      "168/168 [==============================] - ETA: 0s - loss: 7.4249 - root_mean_squared_error: 0.0862\n",
      "Epoch 00010: val_loss did not improve from 8.70597\n",
      "168/168 [==============================] - 15s 91ms/step - loss: 7.4249 - root_mean_squared_error: 0.0862 - val_loss: 8.8495 - val_root_mean_squared_error: 0.0941 - lr: 1.0000e-04\n",
      "Epoch 11/100\n",
      "168/168 [==============================] - ETA: 0s - loss: 7.3947 - root_mean_squared_error: 0.0860\n",
      "Epoch 00011: val_loss did not improve from 8.70597\n",
      "168/168 [==============================] - 15s 92ms/step - loss: 7.3947 - root_mean_squared_error: 0.0860 - val_loss: 8.8553 - val_root_mean_squared_error: 0.0941 - lr: 1.0000e-04\n",
      "Epoch 12/100\n",
      "168/168 [==============================] - ETA: 0s - loss: 7.3649 - root_mean_squared_error: 0.0858\n",
      "Epoch 00012: val_loss did not improve from 8.70597\n",
      "168/168 [==============================] - 15s 91ms/step - loss: 7.3649 - root_mean_squared_error: 0.0858 - val_loss: 8.8832 - val_root_mean_squared_error: 0.0943 - lr: 1.0000e-04\n",
      "Epoch 13/100\n",
      "168/168 [==============================] - ETA: 0s - loss: 7.3350 - root_mean_squared_error: 0.0856\n",
      "Epoch 00013: val_loss did not improve from 8.70597\n",
      "168/168 [==============================] - 16s 93ms/step - loss: 7.3350 - root_mean_squared_error: 0.0856 - val_loss: 8.8894 - val_root_mean_squared_error: 0.0943 - lr: 1.0000e-04\n",
      "Epoch 00013: early stopping\n"
     ]
    }
   ],
   "source": [
    "#train the model\n",
    "results = model.fit(TrainGenerator, steps_per_epoch = t_steps, epochs=100, callbacks=callbacks,\n",
    "                    validation_data=ValidationGenerator,validation_steps=v_steps,shuffle=True)\n"
   ]
  },
  {
   "cell_type": "code",
   "execution_count": 40,
   "metadata": {},
   "outputs": [
    {
     "name": "stdout",
     "output_type": "stream",
     "text": [
      "dict_keys(['loss', 'root_mean_squared_error', 'val_loss', 'val_root_mean_squared_error', 'lr'])\n"
     ]
    },
    {
     "data": {
      "image/png": "[encoded data removed]",
      "text/plain": [
       "<Figure size 432x288 with 1 Axes>"
      ]
     },
     "metadata": {
      "needs_background": "light"
     },
     "output_type": "display_data"
    },
    {
     "data": {
      "image/png": "[encoded data removed]",
      "text/plain": [
       "<Figure size 432x288 with 1 Axes>"
      ]
     },
     "metadata": {
      "needs_background": "light"
     },
     "output_type": "display_data"
    }
   ],
   "source": [
    "#visualise the accuracy and losses of the model\n",
    "# list all data in history\n",
    "print(results.history.keys())\n",
    "# summarize history for accuracy\n",
    "plt.plot(results.history['root_mean_squared_error'])\n",
    "plt.plot(results.history['val_root_mean_squared_error'])\n",
    "plt.title('model root_mean_squared_error')\n",
    "plt.ylabel('root_mean_squared_error')\n",
    "plt.xlabel('epoch')\n",
    "plt.legend(['train', 'test'], loc='upper left')\n",
    "plt.show()\n",
    "# summarize history for loss\n",
    "plt.plot(results.history['loss'])\n",
    "plt.plot(results.history['val_loss'])\n",
    "plt.title('model loss')\n",
    "plt.ylabel('loss')\n",
    "plt.xlabel('epoch')\n",
    "plt.legend(['train', 'test'], loc='upper left')\n",
    "plt.show()"
   ]
  },
  {
   "cell_type": "code",
   "execution_count": 7,
   "metadata": {},
   "outputs": [],
   "source": [
    "Train_set_indices = range(535)\n",
    "Train_set_X = np.zeros((len(Train_set_indices), 801, 401,1), dtype=np.float32)\n",
    "for i in Train_set_indices:\n",
    "    img = Image.open('bandLimited/input_%03d.png' % (i+1))\n",
    "    in_img_input = tf.keras.preprocessing.image.img_to_array(img)\n",
    "    in_img_input = skimage.transform.resize(in_img_input , (801 , 401 , 1) , mode = 'constant' , preserve_range = True)\n",
    "    Train_set_X[i] =in_img_input / 255.0"
   ]
  },
  {
   "cell_type": "code",
   "execution_count": 8,
   "metadata": {},
   "outputs": [],
   "source": [
    "prediction_images = np.zeros((len(Train_set_X),801,401),dtype=np.float32)\n",
    "for i in Train_set_indices:\n",
    "    prediction_image = model.predict(np.expand_dims(Train_set_X[i] , 0))\n",
    "    prediction_image = prediction_image.squeeze()+Train_set_X[i].squeeze()\n",
    "    prediction_image = prediction_image*255.0\n",
    "    prediction_image  = Image.fromarray(prediction_image)\n",
    "    if prediction_image.mode == \"F\":\n",
    "        prediction_image = prediction_image.convert('RGB')\n",
    "    prediction_image.save('bandLimited_model2/input_%03d.png' % (i+1))\n",
    "    "
   ]
  },
  {
   "cell_type": "code",
   "execution_count": 10,
   "metadata": {},
   "outputs": [
    {
     "name": "stdout",
     "output_type": "stream",
     "text": [
      "Done\n"
     ]
    }
   ],
   "source": [
    "def CreateTestSet(test_set_indices,input_dir_test,output_dir_test):\n",
    "    \"\"\"\n",
    "    Function that reads in the test set images as arrays and scales them between 0 and 1\n",
    "    parameters:test_set_indices: The indices of the the images in the test set\n",
    "                 input_dir_test: The directory where the input png images are stored\n",
    "                output_dir_test: The directory where the output png images are stored\n",
    "    returns: Test_set_X: an array of input images\n",
    "             Test_set_y: an array of output images\n",
    "    \"\"\"\n",
    "    Test_set_X = np.zeros((len(test_set_indices), 801, 401, 1), dtype=np.float32)\n",
    "    Test_set_y = np.zeros((len(test_set_indices), 801, 401, 1), dtype=np.float32)\n",
    "    for i,n in enumerate(test_set_indices):\n",
    "        img = Image.open(input_dir_test+'/input_%03d.png' % (n+1))\n",
    "        in_img_input = tf.keras.preprocessing.image.img_to_array(img)\n",
    "        in_img_input = skimage.transform.resize(in_img_input , (801 , 401 , 1) , mode = 'constant' , preserve_range = True)\n",
    "        Test_set_X[i] =in_img_input / 255.0\n",
    "\n",
    "        img = Image.open(output_dir_test+'/target_%03d.png' % (n+1))\n",
    "        in_img_output = tf.keras.preprocessing.image.img_to_array(img)\n",
    "        in_img_output = skimage.transform.resize(in_img_output , (801 , 401 , 1) , mode = 'constant' , preserve_range = True)\n",
    "        Test_set_y[i] =in_img_output / 255.0    \n",
    "    print('Done')\n",
    "    return Test_set_X, Test_set_y\n",
    "#run for all test sets\n",
    "for dataset in ['','CIRS_','carotid_']:\n",
    "    if dataset == '':\n",
    "        test_set_indices = range(535,669)\n",
    "        input_dir_test = 'bandLimited'\n",
    "        output_dir_test = 'groundTruth'\n",
    "    if dataset == 'CIRS_':\n",
    "        test_set_indices = range(11)\n",
    "        input_dir_test = 'CIRSBandLimited'\n",
    "        output_dir_test = 'CIRSGroundTruth'\n",
    "    if dataset =='carotid_':\n",
    "        test_set_indices = range(70)\n",
    "        input_dir_test = 'carotidBandLimited'\n",
    "        output_dir_test = 'carotidGroundTruth'\n",
    "    Test_set_X, Test_set_y = CreateTestSet(test_set_indices,input_dir_test,output_dir_test)\n",
    "    #create an array with all the predicted images for the test set\n",
    "    prediction_images = np.zeros((len(Test_set_X),801,401),dtype=np.float32)\n",
    "    for i in range(len(Test_set_X)):\n",
    "        prediction_image = model.predict(np.expand_dims(Test_set_X[i] , 0))\n",
    "        prediction_images[i] = prediction_image.squeeze()+Test_set_X[i].squeeze()\n",
    "    #save the predicted images array as a npy file\n",
    "    np.save('Model_output_test_'+dataset+'model2_ultrasound.npy',prediction_images)\n",
    "    "
   ]
  },
  {
   "cell_type": "code",
   "execution_count": 11,
   "metadata": {},
   "outputs": [],
   "source": [
    "prediction_images = np.zeros((len(Test_set_X),801,401),dtype=np.float32)\n",
    "for i in range(len(Test_set_X)):\n",
    "    prediction_image = model.predict(np.expand_dims(Test_set_X[i] , 0))\n",
    "    prediction_images[i] = prediction_image.squeeze()+Test_set_X[i].squeeze()\n",
    "np.save('Model_output_test_carotid_model2_ultrasound.npy',prediction_images)"
   ]
  },
  {
   "cell_type": "code",
   "execution_count": 7,
   "metadata": {},
   "outputs": [
    {
     "ename": "NameError",
     "evalue": "name 'Test_set_X' is not defined",
     "output_type": "error",
     "traceback": [
      "\u001b[0;31m---------------------------------------------------------------------------\u001b[0m",
      "\u001b[0;31mNameError\u001b[0m                                 Traceback (most recent call last)",
      "\u001b[0;32m<ipython-input-7-f4042d8b98b1>\u001b[0m in \u001b[0;36m<module>\u001b[0;34m\u001b[0m\n\u001b[1;32m      3\u001b[0m \u001b[0;34m\u001b[0m\u001b[0m\n\u001b[1;32m      4\u001b[0m \u001b[0;31m#make the model predicted image\u001b[0m\u001b[0;34m\u001b[0m\u001b[0;34m\u001b[0m\u001b[0;34m\u001b[0m\u001b[0m\n\u001b[0;32m----> 5\u001b[0;31m \u001b[0mprediction\u001b[0m \u001b[0;34m=\u001b[0m \u001b[0mmodel\u001b[0m\u001b[0;34m.\u001b[0m\u001b[0mpredict\u001b[0m\u001b[0;34m(\u001b[0m\u001b[0mnp\u001b[0m\u001b[0;34m.\u001b[0m\u001b[0mexpand_dims\u001b[0m\u001b[0;34m(\u001b[0m\u001b[0mTest_set_X\u001b[0m\u001b[0;34m[\u001b[0m\u001b[0mn\u001b[0m\u001b[0;34m]\u001b[0m \u001b[0;34m,\u001b[0m \u001b[0;36m0\u001b[0m\u001b[0;34m)\u001b[0m\u001b[0;34m)\u001b[0m\u001b[0;34m\u001b[0m\u001b[0;34m\u001b[0m\u001b[0m\n\u001b[0m\u001b[1;32m      6\u001b[0m \u001b[0mprediction_image\u001b[0m \u001b[0;34m=\u001b[0m \u001b[0mprediction\u001b[0m\u001b[0;34m.\u001b[0m\u001b[0msqueeze\u001b[0m\u001b[0;34m(\u001b[0m\u001b[0;34m)\u001b[0m\u001b[0;34m\u001b[0m\u001b[0;34m\u001b[0m\u001b[0m\n\u001b[1;32m      7\u001b[0m \u001b[0;34m\u001b[0m\u001b[0m\n",
      "\u001b[0;31mNameError\u001b[0m: name 'Test_set_X' is not defined"
     ]
    }
   ],
   "source": [
    "#Show the nth image in the test set\n",
    "n =6\n",
    "\n",
    "#make the model predicted image\n",
    "prediction = model.predict(np.expand_dims(Test_set_X[n] , 0))\n",
    "prediction_image = prediction.squeeze()\n",
    "\n",
    "fig,ax = plt.subplots(1,3, figsize=(12,6))\n",
    "#bandwidth limited image\n",
    "ax[0].imshow(Test_set_X[n].squeeze(),cmap = 'gray')\n",
    "#Model generated image\n",
    "ax[1].imshow(Test_set_X[n].squeeze()+prediction_image,cmap='gray')\n",
    "#original image\n",
    "ax[2].imshow(Test_set_y[n].squeeze(),cmap='gray')\n",
    "plt.show()"
   ]
  }
 ],
 "metadata": {
  "accelerator": "GPU",
  "colab": {
   "collapsed_sections": [],
   "name": "UNet-Implementation.ipynb",
   "provenance": [],
   "version": "0.3.2"
  },
  "kernelspec": {
   "display_name": "Python 3",
   "language": "python",
   "name": "python3"
  },
  "language_info": {
   "codemirror_mode": {
    "name": "ipython",
    "version": 3
   },
   "file_extension": ".py",
   "mimetype": "text/x-python",
   "name": "python",
   "nbconvert_exporter": "python",
   "pygments_lexer": "ipython3",
   "version": "3.8.3"
  }
 },
 "nbformat": 4,
 "nbformat_minor": 1
}
