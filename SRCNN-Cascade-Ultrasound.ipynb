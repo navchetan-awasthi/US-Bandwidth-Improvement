{
 "cells": [
  {
   "cell_type": "code",
   "execution_count": 1,
   "metadata": {
    "colab": {},
    "colab_type": "code",
    "id": "tOG84vhD_Fgr"
   },
   "outputs": [],
   "source": [
    "#import the neccesary libraries\n",
    "import tensorflow as tf\n",
    "import pandas as pd\n",
    "import numpy as np\n",
    "import matplotlib.pyplot as plt\n",
    "import random\n",
    "from PIL import Image\n",
    "import numpy as np\n",
    "import skimage\n",
    "import skimage.transform\n",
    "import os\n",
    "import tensorflow.keras.backend as K\n",
    "from skimage.metrics import structural_similarity as ssim\n",
    "import math\n",
    "from tensorflow.keras.applications.vgg16 import VGG16\n",
    "from sobel_edge import sobel \n",
    "\n",
    "os.environ[\"CUDA_VISIBLE_DEVICES\"]=\"0\""
   ]
  },
  {
   "cell_type": "code",
   "execution_count": 3,
   "metadata": {
    "scrolled": false
   },
   "outputs": [
    {
     "name": "stdout",
     "output_type": "stream",
     "text": [
      "0\n",
      "1000\n",
      "2000\n",
      "3000\n",
      "4000\n",
      "5000\n",
      "6000\n",
      "7000\n",
      "8000\n",
      "9000\n",
      "10000\n",
      "11000\n",
      "12000\n",
      "13000\n",
      "14000\n",
      "15000\n",
      "16000\n",
      "17000\n",
      "18000\n",
      "19000\n",
      "20000\n",
      "21000\n",
      "22000\n",
      "23000\n",
      "24000\n",
      "25000\n",
      "Done\n",
      "0\n",
      "1000\n",
      "2000\n",
      "3000\n",
      "4000\n",
      "5000\n",
      "6000\n",
      "7000\n",
      "8000\n",
      "Done\n"
     ]
    }
   ],
   "source": [
    "import skimage.transform\n",
    "\n",
    "def CreateSet(input_list,input_dir,output_dir,N_patches,patchsize,H,W):\n",
    "    \"\"\"\n",
    "    Creates an array that can be used as input and output for the model\n",
    "    parameters: input_list, a list with indices of the images that are used\n",
    "                N_patches, the amount of image patches the model creates per image\n",
    "                patchsize, the width and height of the square image patch\n",
    "    \n",
    "    \"\"\"\n",
    "    X = np.zeros((len(input_list)*N_patches, patchsize, patchsize, 1), dtype=np.float32)\n",
    "    y = np.zeros((len(input_list)*N_patches, patchsize, patchsize, 1), dtype=np.float32)\n",
    "    for j in range(N_patches):\n",
    "        for n,i in enumerate(input_list):\n",
    "            #random pixel location\n",
    "            ii = j*len(input_list)+n\n",
    "            xloc = random.randint(0,W-patchsize)\n",
    "            yloc = random.randint(0,H-patchsize)\n",
    "            #input \n",
    "            img_input1 = Image.open('bandLimited/input_%03d.png' % (i+1))\n",
    "            in_img_input1 = tf.keras.preprocessing.image.img_to_array(img_input1)\n",
    "            in_img_input1 = in_img_input1[yloc:yloc+patchsize,xloc:xloc+patchsize]\n",
    "            in_img_input1 = skimage.transform.resize(in_img_input1 , (patchsize , patchsize , 1) , mode = 'constant' , preserve_range = True)\n",
    "\n",
    "            #Input from model 2\n",
    "            img_input2 = Image.open('bandlimited_SRCNNmodel2/input_%03d.png' % (i+1))\n",
    "            in_img_input2 = tf.keras.preprocessing.image.img_to_array(img_input2)\n",
    "            in_img_input2 = in_img_input2[yloc:yloc+patchsize,xloc:xloc+patchsize]\n",
    "            in_img_input2 = skimage.transform.resize(in_img_input2 , (patchsize , patchsize , 1) , mode = 'constant' , preserve_range = True)\n",
    "            X1 = in_img_input1 / 255.0\n",
    "            X2 = in_img_input2 / 255.0\n",
    "            X[ii] = X1\n",
    "            #output\n",
    "            img_output = Image.open('groundTruth/target_%03d.png' % (i+1))\n",
    "            in_img_output = tf.keras.preprocessing.image.img_to_array(img_output)\n",
    "            in_img_output = in_img_output[yloc:yloc+patchsize,xloc:xloc+patchsize]\n",
    "            in_img_output = skimage.transform.resize(in_img_output , (patchsize , patchsize , 1) , mode = 'constant' , preserve_range = True)\n",
    "\n",
    "            y[ii] = (in_img_output / 255.0) - X2\n",
    "            if ii % 1000 == 0:\n",
    "                    print(ii)\n",
    "    print('Done')\n",
    "    return X,y\n",
    "#This function can be used for small datasets \n",
    "#amount of patches per image\n",
    "N_patches = 64\n",
    "#width and height of the patches\n",
    "patchsize = 128\n",
    "#image dimensions\n",
    "H=801\n",
    "W=401\n",
    "input_dir = 'bandLimited'\n",
    "output_dir = 'groundTruth'\n",
    "# input_dir = 'CIRSBandLimited'\n",
    "# output_dir = 'CIRSGroundTruth'\n",
    "# input_dir = 'carotidBandLimited'\n",
    "# output_dir = 'carotidGroundTruth'\n",
    "\n",
    "#Train set is image 1 till 401\n",
    "X_train,y_train = CreateSet(range(401),input_dir,output_dir,N_patches,patchsize,H,W)\n",
    "#validation set is image 402 till 535\n",
    "X_valid,y_valid = CreateSet(range(401,535),input_dir,output_dir,N_patches,patchsize,H,W)"
   ]
  },
  {
   "cell_type": "code",
   "execution_count": 4,
   "metadata": {
    "colab": {},
    "colab_type": "code",
    "id": "Xt_4VuyFAzRI"
   },
   "outputs": [],
   "source": [
    "def SRCNN():\n",
    "    # lrelu = LeakyReLU(alpha=0.1)\n",
    "    SRCNN = tf.keras.Sequential()\n",
    "    SRCNN.add(tf.keras.layers.Conv2D(filters=128, kernel_size= (9,9),  kernel_initializer='glorot_uniform',\n",
    "                     activation='relu', padding='same', input_shape=(None, None, 1)))\n",
    "    SRCNN.add(tf.keras.layers.Conv2D(filters=64, kernel_size= (3,3),  kernel_initializer='glorot_uniform',\n",
    "                     activation='relu', padding='same'))\n",
    "    # SRCNN.add(BatchNormalization())\n",
    "    SRCNN.add(tf.keras.layers.Conv2D(filters=1, kernel_size= (5,5),  kernel_initializer='glorot_uniform',\n",
    "                     activation='linear', padding='same'))\n",
    "    adam = tf.keras.optimizers.Adam(lr=0.0003)\n",
    "    SRCNN.compile(optimizer=adam, loss=CustomMSE, metrics=[tf.keras.metrics.RootMeanSquaredError()])\n",
    "    return SRCNN\n"
   ]
  },
  {
   "cell_type": "code",
   "execution_count": 5,
   "metadata": {},
   "outputs": [],
   "source": [
    "def CustomMSE(y_predict,y_true):\n",
    "    factor = 1e3\n",
    "    mse = factor*K.mean(K.square(y_predict-y_true))\n",
    "    return mse\n",
    "    "
   ]
  },
  {
   "cell_type": "code",
   "execution_count": 6,
   "metadata": {
    "colab": {
     "base_uri": "https://localhost:8080/",
     "height": 138
    },
    "colab_type": "code",
    "id": "P6bKNYDv8PxF",
    "outputId": "53c556e0-1b76-409a-c4aa-ba58c472930e"
   },
   "outputs": [],
   "source": [
    "#define and compile the model\n",
    "model = SRCNN()"
   ]
  },
  {
   "cell_type": "code",
   "execution_count": 7,
   "metadata": {
    "colab": {},
    "colab_type": "code",
    "id": "Hx0xnc4kANzc"
   },
   "outputs": [],
   "source": [
    "model_path = 'model_SRCNN_Cascade_ultrasound.h5'\n",
    "callbacks = [\n",
    "    tf.keras.callbacks.EarlyStopping(patience=10, verbose=1),\n",
    "    tf.keras.callbacks.ReduceLROnPlateau(factor=0.1, patience=5, min_lr=0.0001, verbose=1),\n",
    "    tf.keras.callbacks.ModelCheckpoint(model_path, verbose=1, save_best_only=True, save_weights_only=True)\n",
    "]"
   ]
  },
  {
   "cell_type": "code",
   "execution_count": 8,
   "metadata": {
    "colab": {},
    "colab_type": "code",
    "id": "uXgvQE67EC8G"
   },
   "outputs": [],
   "source": [
    "#load the model\n",
    "# model.load_weights(model_path)"
   ]
  },
  {
   "cell_type": "code",
   "execution_count": 23,
   "metadata": {
    "colab": {
     "base_uri": "https://localhost:8080/",
     "height": 2772
    },
    "colab_type": "code",
    "id": "ewoQSgb9-Owo",
    "outputId": "e7d76ce5-ee4d-42a5-9437-9be4dc6ccb98"
   },
   "outputs": [
    {
     "name": "stdout",
     "output_type": "stream",
     "text": [
      "Model: \"sequential_3\"\n",
      "_________________________________________________________________\n",
      "Layer (type)                 Output Shape              Param #   \n",
      "=================================================================\n",
      "conv2d_9 (Conv2D)            (None, None, None, 128)   10496     \n",
      "_________________________________________________________________\n",
      "conv2d_10 (Conv2D)           (None, None, None, 64)    73792     \n",
      "_________________________________________________________________\n",
      "conv2d_11 (Conv2D)           (None, None, None, 1)     1601      \n",
      "=================================================================\n",
      "Total params: 85,889\n",
      "Trainable params: 85,889\n",
      "Non-trainable params: 0\n",
      "_________________________________________________________________\n"
     ]
    }
   ],
   "source": [
    "model.summary()"
   ]
  },
  {
   "cell_type": "code",
   "execution_count": 8,
   "metadata": {
    "colab": {
     "base_uri": "https://localhost:8080/",
     "height": 1616
    },
    "colab_type": "code",
    "id": "jiBmsTy_Anok",
    "outputId": "d350828c-a393-41ad-89f8-38123f726333",
    "scrolled": true
   },
   "outputs": [
    {
     "name": "stdout",
     "output_type": "stream",
     "text": [
      "Epoch 1/100\n",
      "1602/1604 [============================>.] - ETA: 0s - loss: 8.7701 - root_mean_squared_error: 0.0936\n",
      "Epoch 00001: val_loss improved from inf to 8.87511, saving model to model_SRCNN_Cascade_ultrasound.h5\n",
      "1604/1604 [==============================] - 36s 23ms/step - loss: 8.7705 - root_mean_squared_error: 0.0937 - val_loss: 8.8751 - val_root_mean_squared_error: 0.0942 - lr: 3.0000e-04\n",
      "Epoch 2/100\n",
      "1602/1604 [============================>.] - ETA: 0s - loss: 8.7346 - root_mean_squared_error: 0.0935\n",
      "Epoch 00002: val_loss did not improve from 8.87511\n",
      "1604/1604 [==============================] - 36s 23ms/step - loss: 8.7351 - root_mean_squared_error: 0.0935 - val_loss: 8.8751 - val_root_mean_squared_error: 0.0942 - lr: 3.0000e-04\n",
      "Epoch 3/100\n",
      "1604/1604 [==============================] - ETA: 0s - loss: 8.7243 - root_mean_squared_error: 0.0934\n",
      "Epoch 00003: val_loss did not improve from 8.87511\n",
      "1604/1604 [==============================] - 35s 22ms/step - loss: 8.7243 - root_mean_squared_error: 0.0934 - val_loss: 8.8756 - val_root_mean_squared_error: 0.0942 - lr: 3.0000e-04\n",
      "Epoch 4/100\n",
      "1604/1604 [==============================] - ETA: 0s - loss: 8.7212 - root_mean_squared_error: 0.0934\n",
      "Epoch 00004: val_loss did not improve from 8.87511\n",
      "1604/1604 [==============================] - 34s 21ms/step - loss: 8.7212 - root_mean_squared_error: 0.0934 - val_loss: 8.8758 - val_root_mean_squared_error: 0.0942 - lr: 3.0000e-04\n",
      "Epoch 5/100\n",
      "1603/1604 [============================>.] - ETA: 0s - loss: 8.7186 - root_mean_squared_error: 0.0934\n",
      "Epoch 00005: val_loss did not improve from 8.87511\n",
      "1604/1604 [==============================] - 34s 21ms/step - loss: 8.7194 - root_mean_squared_error: 0.0934 - val_loss: 8.8768 - val_root_mean_squared_error: 0.0942 - lr: 3.0000e-04\n",
      "Epoch 6/100\n",
      "1603/1604 [============================>.] - ETA: 0s - loss: 8.7163 - root_mean_squared_error: 0.0934\n",
      "Epoch 00006: ReduceLROnPlateau reducing learning rate to 0.0001.\n",
      "\n",
      "Epoch 00006: val_loss did not improve from 8.87511\n",
      "1604/1604 [==============================] - 34s 21ms/step - loss: 8.7172 - root_mean_squared_error: 0.0934 - val_loss: 8.8765 - val_root_mean_squared_error: 0.0942 - lr: 3.0000e-04\n",
      "Epoch 7/100\n",
      "1603/1604 [============================>.] - ETA: 0s - loss: 8.6856 - root_mean_squared_error: 0.0932\n",
      "Epoch 00007: val_loss did not improve from 8.87511\n",
      "1604/1604 [==============================] - 35s 22ms/step - loss: 8.6864 - root_mean_squared_error: 0.0932 - val_loss: 8.8814 - val_root_mean_squared_error: 0.0942 - lr: 1.0000e-04\n",
      "Epoch 8/100\n",
      "1603/1604 [============================>.] - ETA: 0s - loss: 8.6851 - root_mean_squared_error: 0.0932\n",
      "Epoch 00008: val_loss did not improve from 8.87511\n",
      "1604/1604 [==============================] - 34s 21ms/step - loss: 8.6859 - root_mean_squared_error: 0.0932 - val_loss: 8.8809 - val_root_mean_squared_error: 0.0942 - lr: 1.0000e-04\n",
      "Epoch 9/100\n",
      "1603/1604 [============================>.] - ETA: 0s - loss: 8.6849 - root_mean_squared_error: 0.0932\n",
      "Epoch 00009: val_loss did not improve from 8.87511\n",
      "1604/1604 [==============================] - 34s 21ms/step - loss: 8.6857 - root_mean_squared_error: 0.0932 - val_loss: 8.8807 - val_root_mean_squared_error: 0.0942 - lr: 1.0000e-04\n",
      "Epoch 10/100\n",
      "1603/1604 [============================>.] - ETA: 0s - loss: 8.6842 - root_mean_squared_error: 0.0932\n",
      "Epoch 00010: val_loss did not improve from 8.87511\n",
      "1604/1604 [==============================] - 34s 21ms/step - loss: 8.6850 - root_mean_squared_error: 0.0932 - val_loss: 8.8804 - val_root_mean_squared_error: 0.0942 - lr: 1.0000e-04\n",
      "Epoch 11/100\n",
      "1603/1604 [============================>.] - ETA: 0s - loss: 8.6841 - root_mean_squared_error: 0.0932\n",
      "Epoch 00011: val_loss did not improve from 8.87511\n",
      "1604/1604 [==============================] - 34s 21ms/step - loss: 8.6849 - root_mean_squared_error: 0.0932 - val_loss: 8.8805 - val_root_mean_squared_error: 0.0942 - lr: 1.0000e-04\n",
      "Epoch 00011: early stopping\n"
     ]
    }
   ],
   "source": [
    "#train the model\n",
    "results = model.fit(X_train,y_train, epochs=100, callbacks=callbacks,batch_size = 16,\n",
    "                    validation_data=(X_valid,y_valid),shuffle=False)\n"
   ]
  },
  {
   "cell_type": "code",
   "execution_count": 9,
   "metadata": {},
   "outputs": [
    {
     "name": "stdout",
     "output_type": "stream",
     "text": [
      "dict_keys(['loss', 'root_mean_squared_error', 'val_loss', 'val_root_mean_squared_error', 'lr'])\n"
     ]
    },
    {
     "data": {
      "image/png": "[encoded data removed]",
      "text/plain": [
       "<Figure size 432x288 with 1 Axes>"
      ]
     },
     "metadata": {
      "needs_background": "light"
     },
     "output_type": "display_data"
    },
    {
     "data": {
      "image/png": "[encoded data removed]",
      "text/plain": [
       "<Figure size 432x288 with 1 Axes>"
      ]
     },
     "metadata": {
      "needs_background": "light"
     },
     "output_type": "display_data"
    }
   ],
   "source": [
    "#visualise the accuracy and losses of the model\n",
    "# list all data in history\n",
    "print(results.history.keys())\n",
    "# summarize history for accuracy\n",
    "plt.plot(results.history['root_mean_squared_error'])\n",
    "plt.plot(results.history['val_root_mean_squared_error'])\n",
    "plt.title('model root_mean_squared_error')\n",
    "plt.ylabel('root_mean_squared_error')\n",
    "plt.xlabel('epoch')\n",
    "plt.legend(['train', 'test'], loc='upper left')\n",
    "plt.show()\n",
    "# summarize history for loss\n",
    "plt.plot(results.history['loss'])\n",
    "plt.plot(results.history['val_loss'])\n",
    "plt.title('model loss')\n",
    "plt.ylabel('loss')\n",
    "plt.xlabel('epoch')\n",
    "plt.legend(['train', 'test'], loc='upper left')\n",
    "plt.show()"
   ]
  },
  {
   "cell_type": "code",
   "execution_count": 10,
   "metadata": {},
   "outputs": [
    {
     "name": "stdout",
     "output_type": "stream",
     "text": [
      "Done\n",
      "Done\n",
      "Done\n"
     ]
    }
   ],
   "source": [
    "#Create the arrays for the Test set which are the image 535 till 669\n",
    "def CreateTestSet(test_set_indices,input_dir_test,output_dir_test):\n",
    "    \"\"\"\n",
    "    Function that reads in the test sets images as arrays and scales them between 0 and 1\n",
    "    parameters:test_set_indices: The indices of the the images in the test set\n",
    "                 input_dir_test: The directory where the input png images are stored\n",
    "                output_dir_test: The directory where the output png images are stored\n",
    "    returns: Test_set_X: an array of input images\n",
    "             Test_set_y: an array of output images\n",
    "    \"\"\"\n",
    "    Test_set_X = np.zeros((len(test_set_indices), 801, 401, 1), dtype=np.float32)\n",
    "    Test_set_y = np.zeros((len(test_set_indices), 801, 401, 1), dtype=np.float32)\n",
    "    for i,n in enumerate(test_set_indices):\n",
    "        img = Image.open(input_dir_test+'/input_%03d.png' % (n+1))\n",
    "        in_img_input = tf.keras.preprocessing.image.img_to_array(img)\n",
    "        in_img_input = skimage.transform.resize(in_img_input , (801 , 401 , 1) , mode = 'constant' , preserve_range = True)\n",
    "        Test_set_X[i] =in_img_input / 255.0\n",
    "\n",
    "        img = Image.open(output_dir_test+'/target_%03d.png' % (n+1))\n",
    "        in_img_output = tf.keras.preprocessing.image.img_to_array(img)\n",
    "        in_img_output = skimage.transform.resize(in_img_output , (801 , 401 , 1) , mode = 'constant' , preserve_range = True)\n",
    "        Test_set_y[i] =in_img_output / 255.0    \n",
    "    print('Done')\n",
    "    return Test_set_X, Test_set_y\n",
    "#Run for all datasets\n",
    "for dataset in ['','CIRS_','carotid_']:\n",
    "    if dataset == '':\n",
    "        test_set_indices = range(535,669)\n",
    "        input_dir_test = 'bandLimited'\n",
    "        output_dir_test = 'groundTruth'\n",
    "    if dataset == 'CIRS_':\n",
    "        test_set_indices = range(11)\n",
    "        input_dir_test = 'CIRSBandLimited'\n",
    "        output_dir_test = 'CIRSGroundTruth'\n",
    "    if dataset =='carotid_':\n",
    "        test_set_indices = range(70)\n",
    "        input_dir_test = 'carotidBandLimited'\n",
    "        output_dir_test = 'carotidGroundTruth'\n",
    "    #Define the test sets\n",
    "    Test_set_X, Test_set_y = CreateTestSet(test_set_indices,input_dir_test,output_dir_test)\n",
    "    #Load the saved npy file for the M2 model\n",
    "    modeloutput = np.load('Model_output_test_'+dataset+'SRCNNmodel2_ultrasound.npy')\n",
    "    #Create an array with prediction images\n",
    "    prediction_images = np.zeros_like(Test_set_X.squeeze())\n",
    "    for i in range(len(Test_set_X)):\n",
    "        predicted_array = model.predict(np.expand_dims(Test_set_X[i] , 0))\n",
    "        prediction_IMAGE = modeloutput[i]+predicted_array.squeeze()\n",
    "        prediction_images[i] = prediction_IMAGE\n",
    "    #save the array as an npy file\n",
    "    np.save('Model_output_test_'+dataset+'SRCNNmodel3_ultrasound.npy',prediction_images)"
   ]
  },
  {
   "cell_type": "code",
   "execution_count": null,
   "metadata": {},
   "outputs": [],
   "source": [
    "n =2\n",
    "\n",
    "prediction = model.predict(np.expand_dims(Test_set_X[n], 0))\n",
    "modeloutput = np.load('Model_output_test_SRCNNmodel2_ultrasound.npy')\n",
    "\n",
    "prediction_image = prediction.squeeze()\n",
    "\n",
    "fig,ax = plt.subplots(1,3, figsize=(12,6))\n",
    "ax[0].imshow(Test_set_X[n].squeeze(),cmap = 'gray')\n",
    "ax[1].imshow(prediction_image+modeloutput[n],cmap='gray')\n",
    "ax[2].imshow(Test_set_y[n].squeeze(),cmap='gray')\n",
    "plt.show()"
   ]
  },
  {
   "cell_type": "code",
   "execution_count": 16,
   "metadata": {},
   "outputs": [],
   "source": [
    "modeloutput = np.load('Model_output_test_SRCNNmodel2_ultrasound.npy')\n",
    "prediction_images = np.zeros_like(Test_set_X.squeeze())\n",
    "for i in range(len(Test_set_X)):\n",
    "    predicted_array = model.predict(np.expand_dims(Test_set_X[i] , 0))\n",
    "    prediction_IMAGE = modeloutput[i]+predicted_array.squeeze()\n",
    "    prediction_images[i] = prediction_IMAGE\n",
    "np.save('Model_output_test_SRCNNmodel3_ultrasound.npy',prediction_images)"
   ]
  }
 ],
 "metadata": {
  "accelerator": "GPU",
  "colab": {
   "collapsed_sections": [],
   "name": "UNet-Implementation.ipynb",
   "provenance": [],
   "version": "0.3.2"
  },
  "kernelspec": {
   "display_name": "Python 3",
   "language": "python",
   "name": "python3"
  },
  "language_info": {
   "codemirror_mode": {
    "name": "ipython",
    "version": 3
   },
   "file_extension": ".py",
   "mimetype": "text/x-python",
   "name": "python",
   "nbconvert_exporter": "python",
   "pygments_lexer": "ipython3",
   "version": "3.8.3"
  }
 },
 "nbformat": 4,
 "nbformat_minor": 1
}
